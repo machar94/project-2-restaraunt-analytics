{
 "cells": [
  {
   "cell_type": "markdown",
   "metadata": {},
   "source": [
    "## Datasets\n",
    "\n",
    "**currentOpenInspections.csv**\n",
    "\n",
    "Column information for this dataset can be found in [Data_Dictionary_-_Open_Restaurants_Inspections.xlsx](data/Data_Dictionary_-_Open_Restaurants_Inspections.xlsx). Note that the columns listed in the sheet matching until *ZIPCode* which is actually named *Postcode*. In addition there are 8 extra columns not listed: Latitude, Longitude, CommunityBoard, CouncilDistrict, CensusTract, BIN, BBL, NTA. The meanings of these could probably be extracted from the other .xlsx files.\n",
    "\n",
    "**Open_Restaurant_Applications__Historic__20231202.csv**\n",
    "\n",
    "Column information for this dataset can be found in [Open_Restaurant_Applications_Historical_Data_Dictionary.xlsx](data/Open_Restaurant_Applications_Historical_Data_Dictionary.xlsx)\n",
    "\n",
    "**DOHMH_New_York_City_Restaraunt_Inspection_Results_20231202.csv**\n",
    "\n",
    "Column information for this dataset can be found in [RestaurantInspectionDataDictionary_09242018.xlsx](data/RestaurantInspectionDataDictionary_09242018.xlsx). Note that there are columns in addition to the ones described in the sheet: Latitude,Longitude,Community Board,Council District,Census Tract,BIN,BBL,NTA,Location Point1."
   ]
  },
  {
   "cell_type": "code",
   "execution_count": 2,
   "metadata": {},
   "outputs": [],
   "source": [
    "import jellyfish as jf\n",
    "import pandas as pd\n",
    "\n",
    "from enum import Enum\n",
    "\n",
    "\n",
    "class ColumnType(Enum):\n",
    "    CONTINUOUS = 1\n",
    "    CATEGORICAL = 2\n",
    "    OTHER = 3"
   ]
  },
  {
   "cell_type": "code",
   "execution_count": 3,
   "metadata": {},
   "outputs": [],
   "source": [
    "df_cur = pd.read_csv('data/currentOpenInspections.csv')\n",
    "df_doh = pd.read_csv('data/DOHMH_New_York_City_Restaurant_Inspection_Results_20231202.csv')\n",
    "df_ope = pd.read_csv('data/Open_Restaurant_Applications__Historic__20231202.csv')"
   ]
  },
  {
   "cell_type": "code",
   "execution_count": 4,
   "metadata": {},
   "outputs": [
    {
     "name": "stdout",
     "output_type": "stream",
     "text": [
      "                                                      Rows  Columns\n",
      "currentOpenInspections                               79203       20\n",
      "DOHMH_New_York_City_Restaurant_Inspection_Resul...  209789       27\n",
      "Open_Restaurant_Applications__Historic__20231202     14428       35\n"
     ]
    }
   ],
   "source": [
    "summary_data = [df_cur.shape, df_doh.shape, df_ope.shape]\n",
    "df_summary = pd.DataFrame(summary_data, columns=['Rows', 'Columns'], index=[\n",
    "                          'currentOpenInspections', 'DOHMH_New_York_City_Restaurant_Inspection_Results_20231202', 'Open_Restaurant_Applications__Historic__20231202'])\n",
    "print(df_summary)"
   ]
  },
  {
   "cell_type": "code",
   "execution_count": 5,
   "metadata": {},
   "outputs": [
    {
     "name": "stdout",
     "output_type": "stream",
     "text": [
      "Index(['Borough', 'RestaurantName', 'SeatingChoice', 'LegalBusinessName',\n",
      "       'BusinessAddress', 'RestaurantInspectionID', 'IsSidewayCompliant',\n",
      "       'IsRoadwayCompliant', 'SkippedReason', 'InspectedOn', 'AgencyCode',\n",
      "       'Postcode', 'Latitude', 'Longitude', 'CommunityBoard',\n",
      "       'CouncilDistrict', 'CensusTract', 'BIN', 'BBL', 'NTA'],\n",
      "      dtype='object')\n",
      "Index(['CAMIS', 'DBA', 'BORO', 'BUILDING', 'STREET', 'ZIPCODE', 'PHONE',\n",
      "       'CUISINE DESCRIPTION', 'INSPECTION DATE', 'ACTION', 'VIOLATION CODE',\n",
      "       'VIOLATION DESCRIPTION', 'CRITICAL FLAG', 'SCORE', 'GRADE',\n",
      "       'GRADE DATE', 'RECORD DATE', 'INSPECTION TYPE', 'Latitude', 'Longitude',\n",
      "       'Community Board', 'Council District', 'Census Tract', 'BIN', 'BBL',\n",
      "       'NTA', 'Location Point1'],\n",
      "      dtype='object')\n",
      "Index(['objectid', 'globalid', 'Seating Interest (Sidewalk/Roadway/Both)',\n",
      "       'Restaurant Name', 'Legal Business Name', 'Doing Business As (DBA)',\n",
      "       'Building Number', 'Street', 'Borough', 'Postcode', 'Business Address',\n",
      "       'Food Service Establishment Permit #', 'Sidewalk Dimensions (Length)',\n",
      "       'Sidewalk Dimensions (Width)', 'Sidewalk Dimensions (Area)',\n",
      "       'Roadway Dimensions (Length)', 'Roadway Dimensions (Width)',\n",
      "       'Roadway Dimensions (Area)', 'Approved for Sidewalk Seating',\n",
      "       'Approved for Roadway Seating', 'Qualify Alcohol', 'SLA Serial Number',\n",
      "       'SLA License Type', 'Landmark District or Building',\n",
      "       'landmarkDistrict_terms', 'healthCompliance_terms',\n",
      "       'Time of Submission', 'Latitude', 'Longitude', 'Community Board',\n",
      "       'Council District', 'Census Tract', 'BIN', 'BBL', 'NTA'],\n",
      "      dtype='object')\n"
     ]
    }
   ],
   "source": [
    "print(df_cur.columns)\n",
    "print(df_doh.columns)\n",
    "print(df_ope.columns)"
   ]
  },
  {
   "cell_type": "code",
   "execution_count": 6,
   "metadata": {},
   "outputs": [],
   "source": [
    "def summarize_column(column: pd.Series, type: ColumnType, large_category: bool = False):\n",
    "    '''\n",
    "    This function returns information about the column based on the type\n",
    "    '''\n",
    "\n",
    "    if type == ColumnType.CATEGORICAL and not large_category:\n",
    "        print('Total Count: ', len(column))\n",
    "        print('Unique:', column.unique(), 'Count: ', len(column.unique()))\n",
    "        print(column.value_counts())\n",
    "        print('Type', column.dtype)\n",
    "        print('Null count: ', column.isnull().sum())\n",
    "        column.value_counts().plot(kind='pie')\n",
    "    elif type == ColumnType.CATEGORICAL and large_category:\n",
    "        print('Total Count: ', len(column))\n",
    "        print('Unique Count: ', len(column.unique()))\n",
    "        print('Type', column.dtype)\n",
    "        print('Null count: ', column.isnull().sum())\n",
    "    elif type == ColumnType.CONTINUOUS:\n",
    "        print('Total Count: ', len(column))\n",
    "        print('Null count: ', column.isnull().sum())\n",
    "        print(column.describe())\n",
    "\n"
   ]
  },
  {
   "cell_type": "code",
   "execution_count": 7,
   "metadata": {},
   "outputs": [
    {
     "name": "stdout",
     "output_type": "stream",
     "text": [
      "Total Count:  79203\n",
      "Null count:  8304\n",
      "count    7.089900e+04\n",
      "mean     2.167645e+09\n",
      "std      1.240291e+09\n",
      "min      0.000000e+00\n",
      "25%      1.008370e+09\n",
      "50%      2.023990e+09\n",
      "75%      3.041460e+09\n",
      "max      5.080430e+09\n",
      "Name: BBL, dtype: float64\n"
     ]
    }
   ],
   "source": [
    "summarize_column(df_cur['BBL'], ColumnType.CONTINUOUS, large_category=True)"
   ]
  },
  {
   "cell_type": "markdown",
   "metadata": {},
   "source": [
    "**Question** Is there a non-null Skipped Reason value only when *IsRoadwayCompliant* is equal to 'Skipped Intersection'?\n",
    "\n",
    "Yes."
   ]
  },
  {
   "cell_type": "code",
   "execution_count": 8,
   "metadata": {},
   "outputs": [
    {
     "data": {
      "text/plain": [
       "True"
      ]
     },
     "execution_count": 8,
     "metadata": {},
     "output_type": "execute_result"
    }
   ],
   "source": [
    "((df_cur['IsRoadwayCompliant'] == 'Skipped Inspection') == df_cur['SkippedReason'].notnull()).sum() == len(df_cur)"
   ]
  },
  {
   "cell_type": "markdown",
   "metadata": {},
   "source": [
    "**Question**: Are there the same number of distinct *BusinessAddress*, *RestaurantName*, and *LegalBusinessName*?\n",
    "\n",
    "No."
   ]
  },
  {
   "cell_type": "code",
   "execution_count": 9,
   "metadata": {},
   "outputs": [
    {
     "name": "stdout",
     "output_type": "stream",
     "text": [
      "Unique Values\n",
      "-------------\n",
      "# Business Addresses: 10600\n",
      "# Restaurant Names: 9839\n",
      "# Legal Business Names: 10288\n",
      "\n",
      "Null Values\n",
      "-----------\n",
      "# Business Addresses: 0\n",
      "# Restaurant Names: 8\n",
      "# Legal Business Names: 1\n"
     ]
    }
   ],
   "source": [
    "print('Unique Values')\n",
    "print('-------------')\n",
    "print('# Business Addresses:', len(df_cur['BusinessAddress'].unique()))\n",
    "print('# Restaurant Names:', len(df_cur['RestaurantName'].unique()))\n",
    "print('# Legal Business Names:', len(df_cur['LegalBusinessName'].unique()))\n",
    "\n",
    "print('\\nNull Values')\n",
    "print('-----------')\n",
    "print('# Business Addresses:', df_cur['BusinessAddress'].isnull().sum())\n",
    "print('# Restaurant Names:', df_cur['RestaurantName'].isnull().sum())\n",
    "print('# Legal Business Names:', df_cur['LegalBusinessName'].isnull().sum())"
   ]
  },
  {
   "cell_type": "markdown",
   "metadata": {},
   "source": [
    "**Question**: Is latitude Null wherever longitude is NULL?\n",
    "\n",
    "Yes."
   ]
  },
  {
   "cell_type": "code",
   "execution_count": 10,
   "metadata": {},
   "outputs": [
    {
     "data": {
      "text/plain": [
       "True"
      ]
     },
     "execution_count": 10,
     "metadata": {},
     "output_type": "execute_result"
    }
   ],
   "source": [
    "(df_cur['Latitude'].isnull() == df_cur['Longitude'].isnull()).sum() == len(df_cur)"
   ]
  },
  {
   "cell_type": "markdown",
   "metadata": {},
   "source": [
    "Notes:\n",
    "\n",
    "* It would make sense if there were more restaurants than business addresses as there could be new restaraunts that start at the same location.\n",
    "* The number of restaraunt names and legal business names don't match. There are more legal business names suggesting that there are matching errors"
   ]
  },
  {
   "cell_type": "markdown",
   "metadata": {},
   "source": [
    "**Question**: Where Latitude, Longitude, CommunityBoard, CouncilDistrict, CensusTract, BIN, BBL, NTA all merged in a single `JOIN` to the rest of the data?\n",
    "\n",
    "Yes.\n",
    " \n",
    "* Latitude, Longitude, CommunityBoard, CouncilDistrict, CensusTract, and NTA have the same null values\n",
    "* BIN and BBL have the same null values\n",
    "* Where Latitude..NTA are NULL, are BIN and BBL also always NULL"
   ]
  },
  {
   "cell_type": "code",
   "execution_count": 11,
   "metadata": {},
   "outputs": [
    {
     "name": "stdout",
     "output_type": "stream",
     "text": [
      "Latitude, Longitude, CommunityBoard, CouncilDistrict, CensusTract, and NTA have the same null values\n",
      "BIN and BBL have the same null values\n",
      "\n",
      "Null Values\n",
      "-----------\n",
      "# Latitude: 7883\n",
      "# Longitude: 7883\n",
      "# Community Board: 7883\n",
      "# Council District: 7883\n",
      "# Census Tract: 7883\n",
      "# BIN: 8304\n",
      "# BBL: 8304\n",
      "# NTA: 7883\n"
     ]
    }
   ],
   "source": [
    "if (df_cur['Latitude'].isnull() == df_cur['Longitude'].isnull()).sum() == len(df_cur) and \\\n",
    "(df_cur['Latitude'].isnull() == df_cur['CommunityBoard'].isnull()).sum() == len(df_cur) and \\\n",
    "(df_cur['Latitude'].isnull() == df_cur['CouncilDistrict'].isnull()).sum() == len(df_cur) and \\\n",
    "(df_cur['Latitude'].isnull() == df_cur['CensusTract'].isnull()).sum() == len(df_cur) and \\\n",
    "(df_cur['Latitude'].isnull() == df_cur['NTA'].isnull()).sum() == len(df_cur):\n",
    "    print('Latitude, Longitude, CommunityBoard, CouncilDistrict, CensusTract, and NTA have the same null values')\n",
    "\n",
    "if (df_cur['BIN'].isnull() == df_cur['BBL'].isnull()).sum() == len(df_cur):\n",
    "    print('BIN and BBL have the same null values')\n",
    "\n",
    "print('\\nNull Values')\n",
    "print('-----------')\n",
    "print('# Latitude:', df_cur['Latitude'].isnull().sum())\n",
    "print('# Longitude:', df_cur['Longitude'].isnull().sum())\n",
    "print('# Community Board:', df_cur['CommunityBoard'].isnull().sum())\n",
    "print('# Council District:', df_cur['CouncilDistrict'].isnull().sum())\n",
    "print('# Census Tract:', df_cur['CensusTract'].isnull().sum())\n",
    "print('# BIN:', df_cur['BIN'].isnull().sum())\n",
    "print('# BBL:', df_cur['BBL'].isnull().sum())\n",
    "print('# NTA:', df_cur['NTA'].isnull().sum())"
   ]
  },
  {
   "cell_type": "code",
   "execution_count": 12,
   "metadata": {},
   "outputs": [
    {
     "name": "stdout",
     "output_type": "stream",
     "text": [
      "True\n",
      "True\n"
     ]
    }
   ],
   "source": [
    "print(len(df_cur[df_cur['Latitude'].isnull()].index.union(df_cur[df_cur['BIN'].isnull()].index)) == df_cur['BIN'].isnull().sum())\n",
    "print(len(df_cur[df_cur['Latitude'].isnull()].index.union(df_cur[df_cur['BBL'].isnull()].index)) == df_cur['BBL'].isnull().sum())"
   ]
  },
  {
   "cell_type": "markdown",
   "metadata": {},
   "source": [
    "**Question**: Is there anything interesting about the name (e.g. food truck) for those that do not have a CommunityBoard, NTA etc..? What about those that have a CommunityBoard, NTA, but no BIN or BBL?\n",
    "\n",
    "Doesn't seem like it. See the image.\n"
   ]
  },
  {
   "cell_type": "code",
   "execution_count": 106,
   "metadata": {},
   "outputs": [
    {
     "data": {
      "text/html": [
       "<div>\n",
       "<style scoped>\n",
       "    .dataframe tbody tr th:only-of-type {\n",
       "        vertical-align: middle;\n",
       "    }\n",
       "\n",
       "    .dataframe tbody tr th {\n",
       "        vertical-align: top;\n",
       "    }\n",
       "\n",
       "    .dataframe thead th {\n",
       "        text-align: right;\n",
       "    }\n",
       "</style>\n",
       "<table border=\"1\" class=\"dataframe\">\n",
       "  <thead>\n",
       "    <tr style=\"text-align: right;\">\n",
       "      <th></th>\n",
       "      <th>BusinessAddress</th>\n",
       "      <th>LegalBusinessName</th>\n",
       "      <th>RestaurantName</th>\n",
       "    </tr>\n",
       "  </thead>\n",
       "  <tbody>\n",
       "    <tr>\n",
       "      <th>21519</th>\n",
       "      <td>125 55th Street</td>\n",
       "      <td>Milos Inc.</td>\n",
       "      <td>Estiatorio Milos</td>\n",
       "    </tr>\n",
       "    <tr>\n",
       "      <th>19287</th>\n",
       "      <td>396  396 6th Avenue</td>\n",
       "      <td>Naybi restaurant corp</td>\n",
       "      <td>haab Mexican restaurant</td>\n",
       "    </tr>\n",
       "    <tr>\n",
       "      <th>68881</th>\n",
       "      <td>5420 54</td>\n",
       "      <td>Longford Inc</td>\n",
       "      <td>The Wild Goose</td>\n",
       "    </tr>\n",
       "    <tr>\n",
       "      <th>69714</th>\n",
       "      <td>161 west 161 west 231 st</td>\n",
       "      <td>New Adventure Restaurant</td>\n",
       "      <td>new adventure restaurant</td>\n",
       "    </tr>\n",
       "    <tr>\n",
       "      <th>25420</th>\n",
       "      <td>5 5 EAST 47TH STREET</td>\n",
       "      <td>NEW BLUE FLOWERS GOURMET CORP</td>\n",
       "      <td>CAFE ALICE</td>\n",
       "    </tr>\n",
       "    <tr>\n",
       "      <th>21942</th>\n",
       "      <td>5323 5323 8th Avenue</td>\n",
       "      <td>Empat Sekawan Corp</td>\n",
       "      <td>Langkawi Restaurants</td>\n",
       "    </tr>\n",
       "    <tr>\n",
       "      <th>71974</th>\n",
       "      <td>7901  New Utrecht</td>\n",
       "      <td>Father &amp; sons pizzeria INC</td>\n",
       "      <td>Father &amp; sons pizzeria INC</td>\n",
       "    </tr>\n",
       "    <tr>\n",
       "      <th>54290</th>\n",
       "      <td>194-21-23 NORTHERN BLVD</td>\n",
       "      <td>TWO DIMITRIS CORP</td>\n",
       "      <td>GYRO WORLD</td>\n",
       "    </tr>\n",
       "    <tr>\n",
       "      <th>18128</th>\n",
       "      <td>310 St Nicholas Ave Corner Bldg abutting Gates...</td>\n",
       "      <td>MAYA'S SNACK BAR BUSHWICK CORP</td>\n",
       "      <td>MAYA'S SNACK BAR BUSHWICK</td>\n",
       "    </tr>\n",
       "    <tr>\n",
       "      <th>15632</th>\n",
       "      <td>2083 Amsterdam w 163 street</td>\n",
       "      <td>LA CATRINA RESTAURANT MEXICAN DELI CORP</td>\n",
       "      <td>La Catrina Restaurant Deli</td>\n",
       "    </tr>\n",
       "  </tbody>\n",
       "</table>\n",
       "</div>"
      ],
      "text/plain": [
       "                                         BusinessAddress  \\\n",
       "21519                                    125 55th Street   \n",
       "19287                                396  396 6th Avenue   \n",
       "68881                                            5420 54   \n",
       "69714                           161 west 161 west 231 st   \n",
       "25420                               5 5 EAST 47TH STREET   \n",
       "21942                               5323 5323 8th Avenue   \n",
       "71974                                  7901  New Utrecht   \n",
       "54290                            194-21-23 NORTHERN BLVD   \n",
       "18128  310 St Nicholas Ave Corner Bldg abutting Gates...   \n",
       "15632                        2083 Amsterdam w 163 street   \n",
       "\n",
       "                             LegalBusinessName              RestaurantName  \n",
       "21519                               Milos Inc.            Estiatorio Milos  \n",
       "19287                    Naybi restaurant corp     haab Mexican restaurant  \n",
       "68881                             Longford Inc              The Wild Goose  \n",
       "69714                 New Adventure Restaurant    new adventure restaurant  \n",
       "25420            NEW BLUE FLOWERS GOURMET CORP                  CAFE ALICE  \n",
       "21942                       Empat Sekawan Corp        Langkawi Restaurants  \n",
       "71974               Father & sons pizzeria INC  Father & sons pizzeria INC  \n",
       "54290                        TWO DIMITRIS CORP                  GYRO WORLD  \n",
       "18128           MAYA'S SNACK BAR BUSHWICK CORP   MAYA'S SNACK BAR BUSHWICK  \n",
       "15632  LA CATRINA RESTAURANT MEXICAN DELI CORP  La Catrina Restaurant Deli  "
      ]
     },
     "execution_count": 106,
     "metadata": {},
     "output_type": "execute_result"
    }
   ],
   "source": [
    "# Sample rows that have null values for Latitude\n",
    "df_cur[df_cur['Latitude'].isnull()].sample(10)[['BusinessAddress', 'LegalBusinessName', 'RestaurantName']]"
   ]
  },
  {
   "cell_type": "code",
   "execution_count": 109,
   "metadata": {},
   "outputs": [
    {
     "data": {
      "text/html": [
       "<div>\n",
       "<style scoped>\n",
       "    .dataframe tbody tr th:only-of-type {\n",
       "        vertical-align: middle;\n",
       "    }\n",
       "\n",
       "    .dataframe tbody tr th {\n",
       "        vertical-align: top;\n",
       "    }\n",
       "\n",
       "    .dataframe thead th {\n",
       "        text-align: right;\n",
       "    }\n",
       "</style>\n",
       "<table border=\"1\" class=\"dataframe\">\n",
       "  <thead>\n",
       "    <tr style=\"text-align: right;\">\n",
       "      <th></th>\n",
       "      <th>BusinessAddress</th>\n",
       "      <th>LegalBusinessName</th>\n",
       "      <th>RestaurantName</th>\n",
       "    </tr>\n",
       "  </thead>\n",
       "  <tbody>\n",
       "    <tr>\n",
       "      <th>15533</th>\n",
       "      <td>101 127 street</td>\n",
       "      <td>Harlem ale house</td>\n",
       "      <td>Harlem Ale House</td>\n",
       "    </tr>\n",
       "    <tr>\n",
       "      <th>67318</th>\n",
       "      <td>175 175 Water Street</td>\n",
       "      <td>MANHATTAN BAKE LLC</td>\n",
       "      <td>Flavors</td>\n",
       "    </tr>\n",
       "    <tr>\n",
       "      <th>11640</th>\n",
       "      <td>206 206 Dyckman Street</td>\n",
       "      <td>Burgos Restaurant Corp</td>\n",
       "      <td>Burgos Restaurant</td>\n",
       "    </tr>\n",
       "    <tr>\n",
       "      <th>45453</th>\n",
       "      <td>2 Hope</td>\n",
       "      <td>DM Hope Alliance Inc</td>\n",
       "      <td>De mole Williamsburg</td>\n",
       "    </tr>\n",
       "    <tr>\n",
       "      <th>36159</th>\n",
       "      <td>206-210 118th Street</td>\n",
       "      <td>Arts In Common, LLC</td>\n",
       "      <td>The Cecil Steakhouse</td>\n",
       "    </tr>\n",
       "    <tr>\n",
       "      <th>31594</th>\n",
       "      <td>41-06 41-06 greenpoint ave</td>\n",
       "      <td>Peru Restaurant, Inc</td>\n",
       "      <td>Don Pollo</td>\n",
       "    </tr>\n",
       "    <tr>\n",
       "      <th>59367</th>\n",
       "      <td>431WEST 202 STREET S/W CORNER OF OUTSIDE PKING...</td>\n",
       "      <td>LILIANA VELAZQUEZ</td>\n",
       "      <td>LILIANA VELAZQUEZ</td>\n",
       "    </tr>\n",
       "    <tr>\n",
       "      <th>77523</th>\n",
       "      <td>521 Court</td>\n",
       "      <td>Cremini's Corp</td>\n",
       "      <td>Cremini's</td>\n",
       "    </tr>\n",
       "    <tr>\n",
       "      <th>57702</th>\n",
       "      <td>037040014 6908 Myrtle Avenue</td>\n",
       "      <td>5 time champs</td>\n",
       "      <td>Courtside lounge</td>\n",
       "    </tr>\n",
       "    <tr>\n",
       "      <th>67248</th>\n",
       "      <td>1b 344 West 38th St</td>\n",
       "      <td>SUNFLOWER ESPRESSO BAR, CO</td>\n",
       "      <td>Sunflower Espresso Bar</td>\n",
       "    </tr>\n",
       "  </tbody>\n",
       "</table>\n",
       "</div>"
      ],
      "text/plain": [
       "                                         BusinessAddress  \\\n",
       "15533                                     101 127 street   \n",
       "67318                               175 175 Water Street   \n",
       "11640                             206 206 Dyckman Street   \n",
       "45453                                             2 Hope   \n",
       "36159                               206-210 118th Street   \n",
       "31594                         41-06 41-06 greenpoint ave   \n",
       "59367  431WEST 202 STREET S/W CORNER OF OUTSIDE PKING...   \n",
       "77523                                          521 Court   \n",
       "57702                       037040014 6908 Myrtle Avenue   \n",
       "67248                                1b 344 West 38th St   \n",
       "\n",
       "                LegalBusinessName          RestaurantName  \n",
       "15533            Harlem ale house        Harlem Ale House  \n",
       "67318          MANHATTAN BAKE LLC                 Flavors  \n",
       "11640      Burgos Restaurant Corp       Burgos Restaurant  \n",
       "45453        DM Hope Alliance Inc    De mole Williamsburg  \n",
       "36159         Arts In Common, LLC    The Cecil Steakhouse  \n",
       "31594        Peru Restaurant, Inc               Don Pollo  \n",
       "59367           LILIANA VELAZQUEZ       LILIANA VELAZQUEZ  \n",
       "77523              Cremini's Corp               Cremini's  \n",
       "57702               5 time champs        Courtside lounge  \n",
       "67248  SUNFLOWER ESPRESSO BAR, CO  Sunflower Espresso Bar  "
      ]
     },
     "execution_count": 109,
     "metadata": {},
     "output_type": "execute_result"
    }
   ],
   "source": [
    "df_cur[df_cur['BIN'].isnull()].sample(10)[['BusinessAddress', 'LegalBusinessName', 'RestaurantName']]"
   ]
  },
  {
   "cell_type": "markdown",
   "metadata": {},
   "source": [
    "![Don Pollo](assets/don_pollo.png)"
   ]
  },
  {
   "cell_type": "markdown",
   "metadata": {},
   "source": [
    "**Question**: Could CensusTract be of type int?"
   ]
  },
  {
   "cell_type": "code",
   "execution_count": 13,
   "metadata": {},
   "outputs": [
    {
     "data": {
      "text/plain": [
       "True"
      ]
     },
     "execution_count": 13,
     "metadata": {},
     "output_type": "execute_result"
    }
   ],
   "source": [
    "(df_cur[df_cur['CensusTract'].notnull()]['CensusTract'].astype(int) == df_cur[df_cur['CensusTract'].notnull()]['CensusTract']).sum() == len(df_cur[df_cur['CensusTract'].notnull()])"
   ]
  },
  {
   "cell_type": "markdown",
   "metadata": {},
   "source": [
    "**Question** Are the NTA neighborhoods truly unique, or are some misspelled?\n",
    "\n",
    "Yes, it looks like each of the neighborhoods is truly unique and correct without any misspellings. The closest neighborhood is usually by swapping East with West or North with South."
   ]
  },
  {
   "cell_type": "code",
   "execution_count": 22,
   "metadata": {},
   "outputs": [
    {
     "name": "stdout",
     "output_type": "stream",
     "text": [
      "Neighborhood: West Village | Other: East Village\n",
      "Neighborhood: East Village | Other: West Village\n",
      "Neighborhood: Bushwick North | Other: Bushwick South\n",
      "Neighborhood: Bensonhurst West | Other: Bensonhurst East\n",
      "Neighborhood: Bensonhurst East | Other: Bensonhurst West\n",
      "Neighborhood: Sunset Park East | Other: Sunset Park West\n",
      "Neighborhood: Crown Heights North | Other: Crown Heights South\n",
      "Neighborhood: Washington Heights North | Other: Washington Heights South\n",
      "Neighborhood: East Harlem South | Other: East Harlem North\n",
      "Neighborhood: Bushwick South | Other: Bushwick North\n",
      "Neighborhood: Sunset Park West | Other: Sunset Park East\n",
      "Neighborhood: Washington Heights South | Other: Washington Heights North\n",
      "Neighborhood: East Harlem North | Other: East Harlem South\n",
      "Neighborhood: Crown Heights South | Other: Crown Heights North\n"
     ]
    }
   ],
   "source": [
    "# For each unique neighborhood in NTA, find the closest matching neighborhood using Levenshtein distance. Report those that have a distance less than 3.\n",
    "\n",
    "for neighborhood in df_cur[df_cur['NTA'].notnull()]['NTA'].unique():\n",
    "    for other_neighborhood in df_cur[df_cur['NTA'].notnull()]['NTA'].unique():\n",
    "        if neighborhood != other_neighborhood and jf.levenshtein_distance(neighborhood, other_neighborhood) < 3:\n",
    "            print('Neighborhood:', neighborhood, '| Other:', other_neighborhood)"
   ]
  },
  {
   "cell_type": "markdown",
   "metadata": {},
   "source": [
    "**Question**: Can you show an example of a spelling error in restaraunt name?"
   ]
  },
  {
   "cell_type": "code",
   "execution_count": 34,
   "metadata": {},
   "outputs": [
    {
     "name": "stdout",
     "output_type": "stream",
     "text": [
      "Restaurant: Sam Won Garden | Other: Sam won Garden\n",
      "Restaurant: Sam won Garden | Other: Sam Won Garden\n",
      "Restaurant: Osteria 57 | Other: Osteria57\n",
      "Restaurant: Osteria57 | Other: Osteria 57\n",
      "Restaurant: PEPEROSSO TO GO | Other: PEPE ROSSO TO GO\n",
      "Restaurant: pig n whistle | Other: Pig n whistle\n",
      "Restaurant: Mama sushi | Other: Mamasushi\n",
      "Restaurant: ROCATONE SEAFOOD RESTAURANT | Other: ROXATONE SEAFOOD RESTAURANT\n",
      "Total: 8\n"
     ]
    }
   ],
   "source": [
    "# Group by Postcode and for each group, find a business that is mispelled with a Levenshtein distance of 1 or 2.\n",
    "\n",
    "count = 0\n",
    "\n",
    "for postcode in df_cur[df_cur['Postcode'].notnull()]['Postcode'].unique():\n",
    "    for restaurant in df_cur[df_cur['Postcode'] == postcode]['RestaurantName'].unique():\n",
    "        \n",
    "        if pd.isnull(restaurant):\n",
    "            continue\n",
    "        \n",
    "        for other_restaurant in df_cur[df_cur['Postcode'] == postcode]['RestaurantName'].unique():\n",
    "\n",
    "            if pd.isnull(other_restaurant):\n",
    "                continue\n",
    "\n",
    "            if restaurant != other_restaurant and jf.levenshtein_distance(restaurant, other_restaurant) < 2:\n",
    "                print('Restaurant:', restaurant, '| Other:', other_restaurant)\n",
    "                count += 1\n",
    "\n",
    "        if count >= 5:\n",
    "            break\n",
    "\n",
    "print('Total:', count)\n"
   ]
  },
  {
   "cell_type": "code",
   "execution_count": null,
   "metadata": {},
   "outputs": [],
   "source": []
  }
 ],
 "metadata": {
  "kernelspec": {
   "display_name": "project-2-restaraunt-analytics-PhY6UyjO-py3.10",
   "language": "python",
   "name": "python3"
  },
  "language_info": {
   "codemirror_mode": {
    "name": "ipython",
    "version": 3
   },
   "file_extension": ".py",
   "mimetype": "text/x-python",
   "name": "python",
   "nbconvert_exporter": "python",
   "pygments_lexer": "ipython3",
   "version": "3.10.12"
  }
 },
 "nbformat": 4,
 "nbformat_minor": 2
}
