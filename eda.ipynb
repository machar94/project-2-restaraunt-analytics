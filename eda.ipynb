{
 "cells": [
  {
   "cell_type": "markdown",
   "metadata": {},
   "source": [
    "## Exploratory Data Analysis\n",
    "\n",
    "1. [currentOpenInspections.csv](#currentopeninspectionscsv)\n",
    "2. []\n",
    "\n",
    "**Open_Restaurant_Applications__Historic__20231202.csv**\n",
    "\n",
    "Column information for this dataset can be found in [Open_Restaurant_Applications_Historical_Data_Dictionary.xlsx](data/Open_Restaurant_Applications_Historical_Data_Dictionary.xlsx)"
   ]
  },
  {
   "cell_type": "code",
   "execution_count": 21,
   "metadata": {},
   "outputs": [],
   "source": [
    "import jellyfish as jf\n",
    "import pandas as pd\n",
    "\n",
    "from enum import Enum\n",
    "\n",
    "\n",
    "class ColumnType(Enum):\n",
    "    CONTINUOUS = 1\n",
    "    CATEGORICAL = 2\n",
    "    OTHER = 3"
   ]
  },
  {
   "cell_type": "code",
   "execution_count": 22,
   "metadata": {},
   "outputs": [
    {
     "ename": "FileNotFoundError",
     "evalue": "[Errno 2] No such file or directory: 'data/raw/1_OpenRestaurantInspections.csv'",
     "output_type": "error",
     "traceback": [
      "\u001b[0;31m---------------------------------------------------------------------------\u001b[0m",
      "\u001b[0;31mFileNotFoundError\u001b[0m                         Traceback (most recent call last)",
      "\u001b[1;32m/home/madhav/ws/project-2-restaraunt-analytics/eda.ipynb Cell 3\u001b[0m line \u001b[0;36m3\n\u001b[1;32m      <a href='vscode-notebook-cell:/home/madhav/ws/project-2-restaraunt-analytics/eda.ipynb#W2sZmlsZQ%3D%3D?line=0'>1</a>\u001b[0m df_cur \u001b[39m=\u001b[39m pd\u001b[39m.\u001b[39mread_csv(\u001b[39m'\u001b[39m\u001b[39mdata/raw/2_OpenRestaurantInspections.csv\u001b[39m\u001b[39m'\u001b[39m)\n\u001b[1;32m      <a href='vscode-notebook-cell:/home/madhav/ws/project-2-restaraunt-analytics/eda.ipynb#W2sZmlsZQ%3D%3D?line=1'>2</a>\u001b[0m df_doh \u001b[39m=\u001b[39m pd\u001b[39m.\u001b[39mread_csv(\u001b[39m'\u001b[39m\u001b[39mdata/raw/3_RestaurantInspections.csv\u001b[39m\u001b[39m'\u001b[39m)\n\u001b[0;32m----> <a href='vscode-notebook-cell:/home/madhav/ws/project-2-restaraunt-analytics/eda.ipynb#W2sZmlsZQ%3D%3D?line=2'>3</a>\u001b[0m df_ope \u001b[39m=\u001b[39m pd\u001b[39m.\u001b[39;49mread_csv(\u001b[39m'\u001b[39;49m\u001b[39mdata/raw/1_OpenRestaurantInspections.csv\u001b[39;49m\u001b[39m'\u001b[39;49m)\n",
      "File \u001b[0;32m~/ws/project-2-restaraunt-analytics/.venv/lib/python3.10/site-packages/pandas/io/parsers/readers.py:948\u001b[0m, in \u001b[0;36mread_csv\u001b[0;34m(filepath_or_buffer, sep, delimiter, header, names, index_col, usecols, dtype, engine, converters, true_values, false_values, skipinitialspace, skiprows, skipfooter, nrows, na_values, keep_default_na, na_filter, verbose, skip_blank_lines, parse_dates, infer_datetime_format, keep_date_col, date_parser, date_format, dayfirst, cache_dates, iterator, chunksize, compression, thousands, decimal, lineterminator, quotechar, quoting, doublequote, escapechar, comment, encoding, encoding_errors, dialect, on_bad_lines, delim_whitespace, low_memory, memory_map, float_precision, storage_options, dtype_backend)\u001b[0m\n\u001b[1;32m    935\u001b[0m kwds_defaults \u001b[39m=\u001b[39m _refine_defaults_read(\n\u001b[1;32m    936\u001b[0m     dialect,\n\u001b[1;32m    937\u001b[0m     delimiter,\n\u001b[0;32m   (...)\u001b[0m\n\u001b[1;32m    944\u001b[0m     dtype_backend\u001b[39m=\u001b[39mdtype_backend,\n\u001b[1;32m    945\u001b[0m )\n\u001b[1;32m    946\u001b[0m kwds\u001b[39m.\u001b[39mupdate(kwds_defaults)\n\u001b[0;32m--> 948\u001b[0m \u001b[39mreturn\u001b[39;00m _read(filepath_or_buffer, kwds)\n",
      "File \u001b[0;32m~/ws/project-2-restaraunt-analytics/.venv/lib/python3.10/site-packages/pandas/io/parsers/readers.py:611\u001b[0m, in \u001b[0;36m_read\u001b[0;34m(filepath_or_buffer, kwds)\u001b[0m\n\u001b[1;32m    608\u001b[0m _validate_names(kwds\u001b[39m.\u001b[39mget(\u001b[39m\"\u001b[39m\u001b[39mnames\u001b[39m\u001b[39m\"\u001b[39m, \u001b[39mNone\u001b[39;00m))\n\u001b[1;32m    610\u001b[0m \u001b[39m# Create the parser.\u001b[39;00m\n\u001b[0;32m--> 611\u001b[0m parser \u001b[39m=\u001b[39m TextFileReader(filepath_or_buffer, \u001b[39m*\u001b[39;49m\u001b[39m*\u001b[39;49mkwds)\n\u001b[1;32m    613\u001b[0m \u001b[39mif\u001b[39;00m chunksize \u001b[39mor\u001b[39;00m iterator:\n\u001b[1;32m    614\u001b[0m     \u001b[39mreturn\u001b[39;00m parser\n",
      "File \u001b[0;32m~/ws/project-2-restaraunt-analytics/.venv/lib/python3.10/site-packages/pandas/io/parsers/readers.py:1448\u001b[0m, in \u001b[0;36mTextFileReader.__init__\u001b[0;34m(self, f, engine, **kwds)\u001b[0m\n\u001b[1;32m   1445\u001b[0m     \u001b[39mself\u001b[39m\u001b[39m.\u001b[39moptions[\u001b[39m\"\u001b[39m\u001b[39mhas_index_names\u001b[39m\u001b[39m\"\u001b[39m] \u001b[39m=\u001b[39m kwds[\u001b[39m\"\u001b[39m\u001b[39mhas_index_names\u001b[39m\u001b[39m\"\u001b[39m]\n\u001b[1;32m   1447\u001b[0m \u001b[39mself\u001b[39m\u001b[39m.\u001b[39mhandles: IOHandles \u001b[39m|\u001b[39m \u001b[39mNone\u001b[39;00m \u001b[39m=\u001b[39m \u001b[39mNone\u001b[39;00m\n\u001b[0;32m-> 1448\u001b[0m \u001b[39mself\u001b[39m\u001b[39m.\u001b[39m_engine \u001b[39m=\u001b[39m \u001b[39mself\u001b[39;49m\u001b[39m.\u001b[39;49m_make_engine(f, \u001b[39mself\u001b[39;49m\u001b[39m.\u001b[39;49mengine)\n",
      "File \u001b[0;32m~/ws/project-2-restaraunt-analytics/.venv/lib/python3.10/site-packages/pandas/io/parsers/readers.py:1705\u001b[0m, in \u001b[0;36mTextFileReader._make_engine\u001b[0;34m(self, f, engine)\u001b[0m\n\u001b[1;32m   1703\u001b[0m     \u001b[39mif\u001b[39;00m \u001b[39m\"\u001b[39m\u001b[39mb\u001b[39m\u001b[39m\"\u001b[39m \u001b[39mnot\u001b[39;00m \u001b[39min\u001b[39;00m mode:\n\u001b[1;32m   1704\u001b[0m         mode \u001b[39m+\u001b[39m\u001b[39m=\u001b[39m \u001b[39m\"\u001b[39m\u001b[39mb\u001b[39m\u001b[39m\"\u001b[39m\n\u001b[0;32m-> 1705\u001b[0m \u001b[39mself\u001b[39m\u001b[39m.\u001b[39mhandles \u001b[39m=\u001b[39m get_handle(\n\u001b[1;32m   1706\u001b[0m     f,\n\u001b[1;32m   1707\u001b[0m     mode,\n\u001b[1;32m   1708\u001b[0m     encoding\u001b[39m=\u001b[39;49m\u001b[39mself\u001b[39;49m\u001b[39m.\u001b[39;49moptions\u001b[39m.\u001b[39;49mget(\u001b[39m\"\u001b[39;49m\u001b[39mencoding\u001b[39;49m\u001b[39m\"\u001b[39;49m, \u001b[39mNone\u001b[39;49;00m),\n\u001b[1;32m   1709\u001b[0m     compression\u001b[39m=\u001b[39;49m\u001b[39mself\u001b[39;49m\u001b[39m.\u001b[39;49moptions\u001b[39m.\u001b[39;49mget(\u001b[39m\"\u001b[39;49m\u001b[39mcompression\u001b[39;49m\u001b[39m\"\u001b[39;49m, \u001b[39mNone\u001b[39;49;00m),\n\u001b[1;32m   1710\u001b[0m     memory_map\u001b[39m=\u001b[39;49m\u001b[39mself\u001b[39;49m\u001b[39m.\u001b[39;49moptions\u001b[39m.\u001b[39;49mget(\u001b[39m\"\u001b[39;49m\u001b[39mmemory_map\u001b[39;49m\u001b[39m\"\u001b[39;49m, \u001b[39mFalse\u001b[39;49;00m),\n\u001b[1;32m   1711\u001b[0m     is_text\u001b[39m=\u001b[39;49mis_text,\n\u001b[1;32m   1712\u001b[0m     errors\u001b[39m=\u001b[39;49m\u001b[39mself\u001b[39;49m\u001b[39m.\u001b[39;49moptions\u001b[39m.\u001b[39;49mget(\u001b[39m\"\u001b[39;49m\u001b[39mencoding_errors\u001b[39;49m\u001b[39m\"\u001b[39;49m, \u001b[39m\"\u001b[39;49m\u001b[39mstrict\u001b[39;49m\u001b[39m\"\u001b[39;49m),\n\u001b[1;32m   1713\u001b[0m     storage_options\u001b[39m=\u001b[39;49m\u001b[39mself\u001b[39;49m\u001b[39m.\u001b[39;49moptions\u001b[39m.\u001b[39;49mget(\u001b[39m\"\u001b[39;49m\u001b[39mstorage_options\u001b[39;49m\u001b[39m\"\u001b[39;49m, \u001b[39mNone\u001b[39;49;00m),\n\u001b[1;32m   1714\u001b[0m )\n\u001b[1;32m   1715\u001b[0m \u001b[39massert\u001b[39;00m \u001b[39mself\u001b[39m\u001b[39m.\u001b[39mhandles \u001b[39mis\u001b[39;00m \u001b[39mnot\u001b[39;00m \u001b[39mNone\u001b[39;00m\n\u001b[1;32m   1716\u001b[0m f \u001b[39m=\u001b[39m \u001b[39mself\u001b[39m\u001b[39m.\u001b[39mhandles\u001b[39m.\u001b[39mhandle\n",
      "File \u001b[0;32m~/ws/project-2-restaraunt-analytics/.venv/lib/python3.10/site-packages/pandas/io/common.py:863\u001b[0m, in \u001b[0;36mget_handle\u001b[0;34m(path_or_buf, mode, encoding, compression, memory_map, is_text, errors, storage_options)\u001b[0m\n\u001b[1;32m    858\u001b[0m \u001b[39melif\u001b[39;00m \u001b[39misinstance\u001b[39m(handle, \u001b[39mstr\u001b[39m):\n\u001b[1;32m    859\u001b[0m     \u001b[39m# Check whether the filename is to be opened in binary mode.\u001b[39;00m\n\u001b[1;32m    860\u001b[0m     \u001b[39m# Binary mode does not support 'encoding' and 'newline'.\u001b[39;00m\n\u001b[1;32m    861\u001b[0m     \u001b[39mif\u001b[39;00m ioargs\u001b[39m.\u001b[39mencoding \u001b[39mand\u001b[39;00m \u001b[39m\"\u001b[39m\u001b[39mb\u001b[39m\u001b[39m\"\u001b[39m \u001b[39mnot\u001b[39;00m \u001b[39min\u001b[39;00m ioargs\u001b[39m.\u001b[39mmode:\n\u001b[1;32m    862\u001b[0m         \u001b[39m# Encoding\u001b[39;00m\n\u001b[0;32m--> 863\u001b[0m         handle \u001b[39m=\u001b[39m \u001b[39mopen\u001b[39;49m(\n\u001b[1;32m    864\u001b[0m             handle,\n\u001b[1;32m    865\u001b[0m             ioargs\u001b[39m.\u001b[39;49mmode,\n\u001b[1;32m    866\u001b[0m             encoding\u001b[39m=\u001b[39;49mioargs\u001b[39m.\u001b[39;49mencoding,\n\u001b[1;32m    867\u001b[0m             errors\u001b[39m=\u001b[39;49merrors,\n\u001b[1;32m    868\u001b[0m             newline\u001b[39m=\u001b[39;49m\u001b[39m\"\u001b[39;49m\u001b[39m\"\u001b[39;49m,\n\u001b[1;32m    869\u001b[0m         )\n\u001b[1;32m    870\u001b[0m     \u001b[39melse\u001b[39;00m:\n\u001b[1;32m    871\u001b[0m         \u001b[39m# Binary mode\u001b[39;00m\n\u001b[1;32m    872\u001b[0m         handle \u001b[39m=\u001b[39m \u001b[39mopen\u001b[39m(handle, ioargs\u001b[39m.\u001b[39mmode)\n",
      "\u001b[0;31mFileNotFoundError\u001b[0m: [Errno 2] No such file or directory: 'data/raw/1_OpenRestaurantInspections.csv'"
     ]
    }
   ],
   "source": [
    "df_cur = pd.read_csv('data/raw/2_OpenRestaurantInspections.csv')\n",
    "df_doh = pd.read_csv('data/raw/3_RestaurantInspections.csv')\n",
    "df_ope = pd.read_csv('data/raw/1_OpenRestaurantInspections.csv')"
   ]
  },
  {
   "cell_type": "code",
   "execution_count": null,
   "metadata": {},
   "outputs": [
    {
     "name": "stdout",
     "output_type": "stream",
     "text": [
      "                                                      Rows  Columns\n",
      "currentOpenInspections                               79203       20\n",
      "DOHMH_New_York_City_Restaurant_Inspection_Resul...  209789       27\n",
      "Open_Restaurant_Applications__Historic__20231202     14428       35\n"
     ]
    }
   ],
   "source": [
    "summary_data = [df_cur.shape, df_doh.shape, df_ope.shape]\n",
    "df_summary = pd.DataFrame(summary_data, columns=['Rows', 'Columns'], index=[\n",
    "                          'currentOpenInspections', 'DOHMH_New_York_City_Restaurant_Inspection_Results_20231202', 'Open_Restaurant_Applications__Historic__20231202'])\n",
    "print(df_summary)"
   ]
  },
  {
   "cell_type": "code",
   "execution_count": null,
   "metadata": {},
   "outputs": [],
   "source": [
    "def summarize_column(column: pd.Series, type: ColumnType, large_category: bool = False):\n",
    "    '''\n",
    "    This function returns information about the column based on the type\n",
    "    '''\n",
    "\n",
    "    if type == ColumnType.CATEGORICAL and not large_category:\n",
    "        print('Total Count: ', len(column))\n",
    "        print('Unique:', column.unique(), 'Count: ', len(column.unique()))\n",
    "        print(column.value_counts())\n",
    "        print('Type', column.dtype)\n",
    "        print('Null count: ', column.isnull().sum())\n",
    "        column.value_counts().plot(kind='pie')\n",
    "    elif type == ColumnType.CATEGORICAL and large_category:\n",
    "        print('Total Count: ', len(column))\n",
    "        print('Unique Count: ', len(column.unique()))\n",
    "        print('Type', column.dtype)\n",
    "        print('Null count: ', column.isnull().sum())\n",
    "    elif type == ColumnType.CONTINUOUS:\n",
    "        print('Total Count: ', len(column))\n",
    "        print('Null count: ', column.isnull().sum())\n",
    "        print(column.describe())\n",
    "\n"
   ]
  },
  {
   "cell_type": "markdown",
   "metadata": {},
   "source": [
    "### currentOpenInspections.csv\n",
    "\n",
    "Column information for this dataset can be found in [Data_Dictionary_-_Open_Restaurants_Inspections.xlsx](data/Data_Dictionary_-_Open_Restaurants_Inspections.xlsx). Note that the columns listed in the sheet matching until *ZIPCode* which is actually named *Postcode*. In addition there are 8 extra columns not listed: Latitude, Longitude, CommunityBoard, CouncilDistrict, CensusTract, BIN, BBL, NTA. The meanings of these could probably be extracted from the other .xlsx files.\n",
    "\n",
    "**Summary**: This dataset contains sidewalk compliance information where compliance is determined by OpenStreet. Each row indicates a seperate inspection that was performed at a restaraunt. Restaurants can be inspected more than once.\n",
    "\n",
    "**Data Cleaning**:\n",
    "\n",
    "* Delete current IsSidewayCompliant and rename IsRoadwayCompliant to IsSidewayCompliant"
   ]
  },
  {
   "cell_type": "code",
   "execution_count": 23,
   "metadata": {},
   "outputs": [
    {
     "name": "stdout",
     "output_type": "stream",
     "text": [
      "Total Count:  79203\n",
      "Null count:  8304\n",
      "count    7.089900e+04\n",
      "mean     2.167645e+09\n",
      "std      1.240291e+09\n",
      "min      0.000000e+00\n",
      "25%      1.008370e+09\n",
      "50%      2.023990e+09\n",
      "75%      3.041460e+09\n",
      "max      5.080430e+09\n",
      "Name: BBL, dtype: float64\n"
     ]
    }
   ],
   "source": [
    "summarize_column(df_cur['BBL'], ColumnType.CONTINUOUS, large_category=True)"
   ]
  },
  {
   "cell_type": "markdown",
   "metadata": {},
   "source": [
    "**Question** Is there a non-null Skipped Reason value only when *IsRoadwayCompliant* is equal to 'Skipped Intersection'?\n",
    "\n",
    "Yes."
   ]
  },
  {
   "cell_type": "code",
   "execution_count": 24,
   "metadata": {},
   "outputs": [
    {
     "data": {
      "text/plain": [
       "True"
      ]
     },
     "execution_count": 24,
     "metadata": {},
     "output_type": "execute_result"
    }
   ],
   "source": [
    "((df_cur['IsRoadwayCompliant'] == 'Skipped Inspection') == df_cur['SkippedReason'].notnull()).sum() == len(df_cur)"
   ]
  },
  {
   "cell_type": "markdown",
   "metadata": {},
   "source": [
    "**Question**: Are there the same number of distinct *BusinessAddress*, *RestaurantName*, and *LegalBusinessName*?\n",
    "\n",
    "No."
   ]
  },
  {
   "cell_type": "code",
   "execution_count": 25,
   "metadata": {},
   "outputs": [
    {
     "name": "stdout",
     "output_type": "stream",
     "text": [
      "Unique Values\n",
      "-------------\n",
      "# Business Addresses: 10600\n",
      "# Restaurant Names: 9839\n",
      "# Legal Business Names: 10288\n",
      "\n",
      "Null Values\n",
      "-----------\n",
      "# Business Addresses: 0\n",
      "# Restaurant Names: 8\n",
      "# Legal Business Names: 1\n"
     ]
    }
   ],
   "source": [
    "print('Unique Values')\n",
    "print('-------------')\n",
    "print('# Business Addresses:', len(df_cur['BusinessAddress'].unique()))\n",
    "print('# Restaurant Names:', len(df_cur['RestaurantName'].unique()))\n",
    "print('# Legal Business Names:', len(df_cur['LegalBusinessName'].unique()))\n",
    "\n",
    "print('\\nNull Values')\n",
    "print('-----------')\n",
    "print('# Business Addresses:', df_cur['BusinessAddress'].isnull().sum())\n",
    "print('# Restaurant Names:', df_cur['RestaurantName'].isnull().sum())\n",
    "print('# Legal Business Names:', df_cur['LegalBusinessName'].isnull().sum())"
   ]
  },
  {
   "cell_type": "markdown",
   "metadata": {},
   "source": [
    "Notes:\n",
    "\n",
    "* It would make sense if there were more restaurants than business addresses as there could be new restaraunts that start at the same location.\n",
    "* Could also be that the same restaraunt has multiple locations\n",
    "* The number of restaraunt names and legal business names don't match. There are more legal business names suggesting that there are matching errors"
   ]
  },
  {
   "cell_type": "markdown",
   "metadata": {},
   "source": [
    "**Question**: Is latitude Null wherever longitude is NULL?\n",
    "\n",
    "Yes."
   ]
  },
  {
   "cell_type": "code",
   "execution_count": 26,
   "metadata": {},
   "outputs": [
    {
     "data": {
      "text/plain": [
       "True"
      ]
     },
     "execution_count": 26,
     "metadata": {},
     "output_type": "execute_result"
    }
   ],
   "source": [
    "(df_cur['Latitude'].isnull() == df_cur['Longitude'].isnull()).sum() == len(df_cur)"
   ]
  },
  {
   "cell_type": "markdown",
   "metadata": {},
   "source": [
    "**Question**: Where Latitude, Longitude, CommunityBoard, CouncilDistrict, CensusTract, BIN, BBL, NTA all merged in a single `JOIN` to the rest of the data?\n",
    "\n",
    "Yes.\n",
    " \n",
    "* Latitude, Longitude, CommunityBoard, CouncilDistrict, CensusTract, and NTA have the same null values\n",
    "* BIN and BBL have the same null values\n",
    "* Where Latitude..NTA are NULL, are BIN and BBL also always NULL"
   ]
  },
  {
   "cell_type": "code",
   "execution_count": 27,
   "metadata": {},
   "outputs": [
    {
     "name": "stdout",
     "output_type": "stream",
     "text": [
      "Latitude, Longitude, CommunityBoard, CouncilDistrict, CensusTract, and NTA have the same null values\n",
      "BIN and BBL have the same null values\n",
      "\n",
      "Null Values\n",
      "-----------\n",
      "# Latitude: 7883\n",
      "# Longitude: 7883\n",
      "# Community Board: 7883\n",
      "# Council District: 7883\n",
      "# Census Tract: 7883\n",
      "# BIN: 8304\n",
      "# BBL: 8304\n",
      "# NTA: 7883\n"
     ]
    }
   ],
   "source": [
    "if (df_cur['Latitude'].isnull() == df_cur['Longitude'].isnull()).sum() == len(df_cur) and \\\n",
    "(df_cur['Latitude'].isnull() == df_cur['CommunityBoard'].isnull()).sum() == len(df_cur) and \\\n",
    "(df_cur['Latitude'].isnull() == df_cur['CouncilDistrict'].isnull()).sum() == len(df_cur) and \\\n",
    "(df_cur['Latitude'].isnull() == df_cur['CensusTract'].isnull()).sum() == len(df_cur) and \\\n",
    "(df_cur['Latitude'].isnull() == df_cur['NTA'].isnull()).sum() == len(df_cur):\n",
    "    print('Latitude, Longitude, CommunityBoard, CouncilDistrict, CensusTract, and NTA have the same null values')\n",
    "\n",
    "if (df_cur['BIN'].isnull() == df_cur['BBL'].isnull()).sum() == len(df_cur):\n",
    "    print('BIN and BBL have the same null values')\n",
    "\n",
    "print('\\nNull Values')\n",
    "print('-----------')\n",
    "print('# Latitude:', df_cur['Latitude'].isnull().sum())\n",
    "print('# Longitude:', df_cur['Longitude'].isnull().sum())\n",
    "print('# Community Board:', df_cur['CommunityBoard'].isnull().sum())\n",
    "print('# Council District:', df_cur['CouncilDistrict'].isnull().sum())\n",
    "print('# Census Tract:', df_cur['CensusTract'].isnull().sum())\n",
    "print('# BIN:', df_cur['BIN'].isnull().sum())\n",
    "print('# BBL:', df_cur['BBL'].isnull().sum())\n",
    "print('# NTA:', df_cur['NTA'].isnull().sum())"
   ]
  },
  {
   "cell_type": "code",
   "execution_count": 28,
   "metadata": {},
   "outputs": [
    {
     "name": "stdout",
     "output_type": "stream",
     "text": [
      "True\n",
      "True\n"
     ]
    }
   ],
   "source": [
    "print(len(df_cur[df_cur['Latitude'].isnull()].index.union(df_cur[df_cur['BIN'].isnull()].index)) == df_cur['BIN'].isnull().sum())\n",
    "print(len(df_cur[df_cur['Latitude'].isnull()].index.union(df_cur[df_cur['BBL'].isnull()].index)) == df_cur['BBL'].isnull().sum())"
   ]
  },
  {
   "cell_type": "markdown",
   "metadata": {},
   "source": [
    "**Question**: Is there anything interesting about the name (e.g. food truck) for those that do not have a CommunityBoard, NTA etc..? What about those that have a CommunityBoard, NTA, but no BIN or BBL?\n",
    "\n",
    "Doesn't seem like it. See the image.\n"
   ]
  },
  {
   "cell_type": "code",
   "execution_count": 29,
   "metadata": {},
   "outputs": [
    {
     "data": {
      "text/html": [
       "<div>\n",
       "<style scoped>\n",
       "    .dataframe tbody tr th:only-of-type {\n",
       "        vertical-align: middle;\n",
       "    }\n",
       "\n",
       "    .dataframe tbody tr th {\n",
       "        vertical-align: top;\n",
       "    }\n",
       "\n",
       "    .dataframe thead th {\n",
       "        text-align: right;\n",
       "    }\n",
       "</style>\n",
       "<table border=\"1\" class=\"dataframe\">\n",
       "  <thead>\n",
       "    <tr style=\"text-align: right;\">\n",
       "      <th></th>\n",
       "      <th>BusinessAddress</th>\n",
       "      <th>LegalBusinessName</th>\n",
       "      <th>RestaurantName</th>\n",
       "    </tr>\n",
       "  </thead>\n",
       "  <tbody>\n",
       "    <tr>\n",
       "      <th>32074</th>\n",
       "      <td>103  havemeter street</td>\n",
       "      <td>Vabeh first llc</td>\n",
       "      <td>Havemeyer Vineria naturale con cucina</td>\n",
       "    </tr>\n",
       "    <tr>\n",
       "      <th>32425</th>\n",
       "      <td>1619 2ND AVENUE</td>\n",
       "      <td>GREEN 84 LLC</td>\n",
       "      <td>GREEN 84 LLC</td>\n",
       "    </tr>\n",
       "    <tr>\n",
       "      <th>8846</th>\n",
       "      <td>109 -09  Liberty Ave South Richmond Hill</td>\n",
       "      <td>Gt Kingston Diner Inc</td>\n",
       "      <td>GT KINGSTON DINER</td>\n",
       "    </tr>\n",
       "    <tr>\n",
       "      <th>78437</th>\n",
       "      <td>2  Berry</td>\n",
       "      <td>Aging young rebels llc</td>\n",
       "      <td>Upstate Stock</td>\n",
       "    </tr>\n",
       "    <tr>\n",
       "      <th>21063</th>\n",
       "      <td>1375/67 2 E 61st Street</td>\n",
       "      <td>IHMS,LLC</td>\n",
       "      <td>Hotel Pierre</td>\n",
       "    </tr>\n",
       "    <tr>\n",
       "      <th>75765</th>\n",
       "      <td>237 237 Third Avenue</td>\n",
       "      <td>Pataiden Food &amp; Drink</td>\n",
       "      <td>Paddy Maguire's Ale House (Bar)</td>\n",
       "    </tr>\n",
       "    <tr>\n",
       "      <th>18825</th>\n",
       "      <td>39 04 64</td>\n",
       "      <td>Sumnima Kitchen</td>\n",
       "      <td>Sumnima Kitchen</td>\n",
       "    </tr>\n",
       "    <tr>\n",
       "      <th>21638</th>\n",
       "      <td>666  Seneca a e</td>\n",
       "      <td>Balcon de quito restaurant inc</td>\n",
       "      <td>Balcon de quito restaurant inc</td>\n",
       "    </tr>\n",
       "    <tr>\n",
       "      <th>49611</th>\n",
       "      <td>1666 93rd St 3rd ave</td>\n",
       "      <td>Isohama Japanese Restaurant (NY) INC</td>\n",
       "      <td>Isohama</td>\n",
       "    </tr>\n",
       "    <tr>\n",
       "      <th>31388</th>\n",
       "      <td>32 - 41 Steinway</td>\n",
       "      <td>Caso Inc</td>\n",
       "      <td>MamaGCOs empanadas</td>\n",
       "    </tr>\n",
       "  </tbody>\n",
       "</table>\n",
       "</div>"
      ],
      "text/plain": [
       "                                BusinessAddress  \\\n",
       "32074                     103  havemeter street   \n",
       "32425                           1619 2ND AVENUE   \n",
       "8846   109 -09  Liberty Ave South Richmond Hill   \n",
       "78437                                  2  Berry   \n",
       "21063                   1375/67 2 E 61st Street   \n",
       "75765                      237 237 Third Avenue   \n",
       "18825                                  39 04 64   \n",
       "21638                           666  Seneca a e   \n",
       "49611                      1666 93rd St 3rd ave   \n",
       "31388                          32 - 41 Steinway   \n",
       "\n",
       "                          LegalBusinessName  \\\n",
       "32074                       Vabeh first llc   \n",
       "32425                          GREEN 84 LLC   \n",
       "8846                  Gt Kingston Diner Inc   \n",
       "78437                Aging young rebels llc   \n",
       "21063                              IHMS,LLC   \n",
       "75765                 Pataiden Food & Drink   \n",
       "18825                       Sumnima Kitchen   \n",
       "21638        Balcon de quito restaurant inc   \n",
       "49611  Isohama Japanese Restaurant (NY) INC   \n",
       "31388                              Caso Inc   \n",
       "\n",
       "                              RestaurantName  \n",
       "32074  Havemeyer Vineria naturale con cucina  \n",
       "32425                           GREEN 84 LLC  \n",
       "8846                       GT KINGSTON DINER  \n",
       "78437                          Upstate Stock  \n",
       "21063                           Hotel Pierre  \n",
       "75765        Paddy Maguire's Ale House (Bar)  \n",
       "18825                        Sumnima Kitchen  \n",
       "21638         Balcon de quito restaurant inc  \n",
       "49611                                Isohama  \n",
       "31388                     MamaGCOs empanadas  "
      ]
     },
     "execution_count": 29,
     "metadata": {},
     "output_type": "execute_result"
    }
   ],
   "source": [
    "# Sample rows that have null values for Latitude\n",
    "df_cur[df_cur['Latitude'].isnull()].sample(10)[['BusinessAddress', 'LegalBusinessName', 'RestaurantName']]"
   ]
  },
  {
   "cell_type": "code",
   "execution_count": 30,
   "metadata": {},
   "outputs": [
    {
     "data": {
      "text/html": [
       "<div>\n",
       "<style scoped>\n",
       "    .dataframe tbody tr th:only-of-type {\n",
       "        vertical-align: middle;\n",
       "    }\n",
       "\n",
       "    .dataframe tbody tr th {\n",
       "        vertical-align: top;\n",
       "    }\n",
       "\n",
       "    .dataframe thead th {\n",
       "        text-align: right;\n",
       "    }\n",
       "</style>\n",
       "<table border=\"1\" class=\"dataframe\">\n",
       "  <thead>\n",
       "    <tr style=\"text-align: right;\">\n",
       "      <th></th>\n",
       "      <th>BusinessAddress</th>\n",
       "      <th>LegalBusinessName</th>\n",
       "      <th>RestaurantName</th>\n",
       "    </tr>\n",
       "  </thead>\n",
       "  <tbody>\n",
       "    <tr>\n",
       "      <th>72272</th>\n",
       "      <td>136 W 46</td>\n",
       "      <td>Margin restaurant Corp</td>\n",
       "      <td>Margin restaurant corp</td>\n",
       "    </tr>\n",
       "    <tr>\n",
       "      <th>42213</th>\n",
       "      <td>250 Mott</td>\n",
       "      <td>Boba Fix Inc.</td>\n",
       "      <td>Boba Fix</td>\n",
       "    </tr>\n",
       "    <tr>\n",
       "      <th>26065</th>\n",
       "      <td>239 239 West Broadway</td>\n",
       "      <td>DBA Corton LLC</td>\n",
       "      <td>Batard</td>\n",
       "    </tr>\n",
       "    <tr>\n",
       "      <th>22302</th>\n",
       "      <td>FRNT 1 2 W 32nd Street</td>\n",
       "      <td>Young Mandoo Corp</td>\n",
       "      <td>Kushi Kushi Yaki</td>\n",
       "    </tr>\n",
       "    <tr>\n",
       "      <th>11686</th>\n",
       "      <td>170 Allen</td>\n",
       "      <td>Mr Taka LLC</td>\n",
       "      <td>Mr Taka Ramen</td>\n",
       "    </tr>\n",
       "    <tr>\n",
       "      <th>7877</th>\n",
       "      <td>265 east 78</td>\n",
       "      <td>Pil Pil spanish tapas inc</td>\n",
       "      <td>Pil pil spanish tapas</td>\n",
       "    </tr>\n",
       "    <tr>\n",
       "      <th>63218</th>\n",
       "      <td>85 E 125th</td>\n",
       "      <td>Ginjan Bros, LLC</td>\n",
       "      <td>Ginjan Cafe</td>\n",
       "    </tr>\n",
       "    <tr>\n",
       "      <th>20553</th>\n",
       "      <td>254W 108th street</td>\n",
       "      <td>Himalayan Curry House, Inc.</td>\n",
       "      <td>Himalayan Curry House</td>\n",
       "    </tr>\n",
       "    <tr>\n",
       "      <th>68459</th>\n",
       "      <td>355  E78</td>\n",
       "      <td>Three Spoons LLC</td>\n",
       "      <td>Maison Bangkok</td>\n",
       "    </tr>\n",
       "    <tr>\n",
       "      <th>51522</th>\n",
       "      <td>255  Bleecker</td>\n",
       "      <td>La Cornelia</td>\n",
       "      <td>Tacombi</td>\n",
       "    </tr>\n",
       "  </tbody>\n",
       "</table>\n",
       "</div>"
      ],
      "text/plain": [
       "              BusinessAddress            LegalBusinessName  \\\n",
       "72272                136 W 46       Margin restaurant Corp   \n",
       "42213                250 Mott                Boba Fix Inc.   \n",
       "26065   239 239 West Broadway               DBA Corton LLC   \n",
       "22302  FRNT 1 2 W 32nd Street            Young Mandoo Corp   \n",
       "11686               170 Allen                  Mr Taka LLC   \n",
       "7877              265 east 78    Pil Pil spanish tapas inc   \n",
       "63218              85 E 125th             Ginjan Bros, LLC   \n",
       "20553       254W 108th street  Himalayan Curry House, Inc.   \n",
       "68459                355  E78             Three Spoons LLC   \n",
       "51522           255  Bleecker                  La Cornelia   \n",
       "\n",
       "               RestaurantName  \n",
       "72272  Margin restaurant corp  \n",
       "42213                Boba Fix  \n",
       "26065                  Batard  \n",
       "22302        Kushi Kushi Yaki  \n",
       "11686           Mr Taka Ramen  \n",
       "7877    Pil pil spanish tapas  \n",
       "63218             Ginjan Cafe  \n",
       "20553   Himalayan Curry House  \n",
       "68459          Maison Bangkok  \n",
       "51522                 Tacombi  "
      ]
     },
     "execution_count": 30,
     "metadata": {},
     "output_type": "execute_result"
    }
   ],
   "source": [
    "df_cur[df_cur['BIN'].isnull()].sample(10)[['BusinessAddress', 'LegalBusinessName', 'RestaurantName']]"
   ]
  },
  {
   "cell_type": "markdown",
   "metadata": {},
   "source": [
    "![Don Pollo](assets/don_pollo.png)"
   ]
  },
  {
   "cell_type": "markdown",
   "metadata": {},
   "source": [
    "**Question**: Could CensusTract be of type int?"
   ]
  },
  {
   "cell_type": "code",
   "execution_count": 31,
   "metadata": {},
   "outputs": [
    {
     "data": {
      "text/plain": [
       "True"
      ]
     },
     "execution_count": 31,
     "metadata": {},
     "output_type": "execute_result"
    }
   ],
   "source": [
    "(df_cur[df_cur['CensusTract'].notnull()]['CensusTract'].astype(int) == df_cur[df_cur['CensusTract'].notnull()]['CensusTract']).sum() == len(df_cur[df_cur['CensusTract'].notnull()])"
   ]
  },
  {
   "cell_type": "markdown",
   "metadata": {},
   "source": [
    "**Question** Are the NTA neighborhoods truly unique, or are some misspelled?\n",
    "\n",
    "Yes, it looks like each of the neighborhoods is truly unique and correct without any misspellings. The closest neighborhood is usually by swapping East with West or North with South."
   ]
  },
  {
   "cell_type": "code",
   "execution_count": 32,
   "metadata": {},
   "outputs": [
    {
     "name": "stdout",
     "output_type": "stream",
     "text": [
      "Neighborhood: West Village | Other: East Village\n",
      "Neighborhood: East Village | Other: West Village\n",
      "Neighborhood: Bushwick North | Other: Bushwick South\n",
      "Neighborhood: Bensonhurst West | Other: Bensonhurst East\n",
      "Neighborhood: Bensonhurst East | Other: Bensonhurst West\n",
      "Neighborhood: Sunset Park East | Other: Sunset Park West\n",
      "Neighborhood: Crown Heights North | Other: Crown Heights South\n",
      "Neighborhood: Washington Heights North | Other: Washington Heights South\n",
      "Neighborhood: East Harlem South | Other: East Harlem North\n",
      "Neighborhood: Bushwick South | Other: Bushwick North\n",
      "Neighborhood: Sunset Park West | Other: Sunset Park East\n",
      "Neighborhood: Washington Heights South | Other: Washington Heights North\n",
      "Neighborhood: East Harlem North | Other: East Harlem South\n",
      "Neighborhood: Crown Heights South | Other: Crown Heights North\n"
     ]
    }
   ],
   "source": [
    "# For each unique neighborhood in NTA, find the closest matching neighborhood using Levenshtein distance. Report those that have a distance less than 3.\n",
    "\n",
    "for neighborhood in df_cur[df_cur['NTA'].notnull()]['NTA'].unique():\n",
    "    for other_neighborhood in df_cur[df_cur['NTA'].notnull()]['NTA'].unique():\n",
    "        if neighborhood != other_neighborhood and jf.levenshtein_distance(neighborhood, other_neighborhood) < 3:\n",
    "            print('Neighborhood:', neighborhood, '| Other:', other_neighborhood)"
   ]
  },
  {
   "cell_type": "markdown",
   "metadata": {},
   "source": [
    "**Question**: Can you show an example of a spelling error in restaraunt name?\n",
    "\n",
    "* Capitalization: Sam Won Garden | Sam won Garden\n",
    "* White space: Mama sushi | Mamasushi\n",
    "* Keyboard typos: Rocatone Seafood Restaraunt | Roxatone Seafood Restaraunt"
   ]
  },
  {
   "cell_type": "code",
   "execution_count": 33,
   "metadata": {},
   "outputs": [
    {
     "name": "stdout",
     "output_type": "stream",
     "text": [
      "Restaurant: Sam Won Garden | Other: Sam won Garden\n",
      "Restaurant: Sam won Garden | Other: Sam Won Garden\n",
      "Restaurant: Osteria 57 | Other: Osteria57\n",
      "Restaurant: Osteria57 | Other: Osteria 57\n",
      "Restaurant: PEPEROSSO TO GO | Other: PEPE ROSSO TO GO\n",
      "Restaurant: pig n whistle | Other: Pig n whistle\n",
      "Restaurant: Mama sushi | Other: Mamasushi\n",
      "Restaurant: ROCATONE SEAFOOD RESTAURANT | Other: ROXATONE SEAFOOD RESTAURANT\n",
      "Total: 8\n"
     ]
    }
   ],
   "source": [
    "# Group by Postcode and for each group, find a business that is mispelled with a Levenshtein distance of 1 or 2.\n",
    "\n",
    "count = 0\n",
    "\n",
    "for postcode in df_cur[df_cur['Postcode'].notnull()]['Postcode'].unique():\n",
    "    for restaurant in df_cur[df_cur['Postcode'] == postcode]['RestaurantName'].unique():\n",
    "        \n",
    "        if pd.isnull(restaurant):\n",
    "            continue\n",
    "        \n",
    "        for other_restaurant in df_cur[df_cur['Postcode'] == postcode]['RestaurantName'].unique():\n",
    "\n",
    "            if pd.isnull(other_restaurant):\n",
    "                continue\n",
    "\n",
    "            if restaurant != other_restaurant and jf.levenshtein_distance(restaurant, other_restaurant) < 2:\n",
    "                print('Restaurant:', restaurant, '| Other:', other_restaurant)\n",
    "                count += 1\n",
    "\n",
    "        if count >= 5:\n",
    "            break\n",
    "\n",
    "print('Total:', count)\n"
   ]
  },
  {
   "cell_type": "markdown",
   "metadata": {},
   "source": [
    "**Question** Is there a concept of a business address shared across multiple restaraunt / branch locations?\n",
    "\n",
    "Observations:\n",
    "* Not all McDonald's are owned by the same legal business e.g. *McDonald's Restaurant of New York INC.* vs *MCCONNER STREET HOLDING, LLC*\n",
    "* Some franchises have multiple locations. *MCCONNER STREET HOLDING, LLC* has at least two broadway locations.\n",
    "\n",
    "Action: Group by Legal Business Name, then location then inspection per location."
   ]
  },
  {
   "cell_type": "code",
   "execution_count": 34,
   "metadata": {},
   "outputs": [
    {
     "name": "stdout",
     "output_type": "stream",
     "text": [
      "Number of McDonald's in NY: 72\n"
     ]
    },
    {
     "data": {
      "text/html": [
       "<div>\n",
       "<style scoped>\n",
       "    .dataframe tbody tr th:only-of-type {\n",
       "        vertical-align: middle;\n",
       "    }\n",
       "\n",
       "    .dataframe tbody tr th {\n",
       "        vertical-align: top;\n",
       "    }\n",
       "\n",
       "    .dataframe thead th {\n",
       "        text-align: right;\n",
       "    }\n",
       "</style>\n",
       "<table border=\"1\" class=\"dataframe\">\n",
       "  <thead>\n",
       "    <tr style=\"text-align: right;\">\n",
       "      <th></th>\n",
       "      <th>RestaurantName</th>\n",
       "      <th>LegalBusinessName</th>\n",
       "      <th>BusinessAddress</th>\n",
       "    </tr>\n",
       "  </thead>\n",
       "  <tbody>\n",
       "    <tr>\n",
       "      <th>8590</th>\n",
       "      <td>MCDONALD'S</td>\n",
       "      <td>D S D SYSTEMS INC/MCDONALD'S</td>\n",
       "      <td>3660 EAST TREMONT AVENUE</td>\n",
       "    </tr>\n",
       "    <tr>\n",
       "      <th>1783</th>\n",
       "      <td>McDonalds</td>\n",
       "      <td>946 Eighth Ave Food Corp</td>\n",
       "      <td>946 8th ave</td>\n",
       "    </tr>\n",
       "    <tr>\n",
       "      <th>58451</th>\n",
       "      <td>Mcdonalds</td>\n",
       "      <td>LA Products and Services Corp</td>\n",
       "      <td>2154 Nostrand ave</td>\n",
       "    </tr>\n",
       "    <tr>\n",
       "      <th>11819</th>\n",
       "      <td>MCDONALD'S</td>\n",
       "      <td>SDJR SYSTEMS 1, LLC</td>\n",
       "      <td>208 DYCKMAN STREET</td>\n",
       "    </tr>\n",
       "    <tr>\n",
       "      <th>38331</th>\n",
       "      <td>Mcdonalds</td>\n",
       "      <td>LA Products and Services Corp</td>\n",
       "      <td>2154 Nostrand ave</td>\n",
       "    </tr>\n",
       "    <tr>\n",
       "      <th>16615</th>\n",
       "      <td>McDonald's Restaurant of New York INC.</td>\n",
       "      <td>McDonald's Restaurant of New York INC.</td>\n",
       "      <td>789/42 556 7TH AVE</td>\n",
       "    </tr>\n",
       "    <tr>\n",
       "      <th>10815</th>\n",
       "      <td>McDonald's</td>\n",
       "      <td>P. Hendel Products Partnership</td>\n",
       "      <td>289 9th Street</td>\n",
       "    </tr>\n",
       "    <tr>\n",
       "      <th>23592</th>\n",
       "      <td>Mcdonalds</td>\n",
       "      <td>LA Products and Services Corp</td>\n",
       "      <td>2154 Nostrand ave</td>\n",
       "    </tr>\n",
       "    <tr>\n",
       "      <th>61817</th>\n",
       "      <td>McDonalds</td>\n",
       "      <td>MIC-EASTCHESTER, LLC</td>\n",
       "      <td>1826 Eastchester Road</td>\n",
       "    </tr>\n",
       "    <tr>\n",
       "      <th>25286</th>\n",
       "      <td>Mcdonalds</td>\n",
       "      <td>LA Products and Services Corp</td>\n",
       "      <td>2154 Nostrand ave</td>\n",
       "    </tr>\n",
       "  </tbody>\n",
       "</table>\n",
       "</div>"
      ],
      "text/plain": [
       "                               RestaurantName  \\\n",
       "8590                               MCDONALD'S   \n",
       "1783                                McDonalds   \n",
       "58451                               Mcdonalds   \n",
       "11819                              MCDONALD'S   \n",
       "38331                               Mcdonalds   \n",
       "16615  McDonald's Restaurant of New York INC.   \n",
       "10815                              McDonald's   \n",
       "23592                               Mcdonalds   \n",
       "61817                               McDonalds   \n",
       "25286                               Mcdonalds   \n",
       "\n",
       "                            LegalBusinessName           BusinessAddress  \n",
       "8590             D S D SYSTEMS INC/MCDONALD'S  3660 EAST TREMONT AVENUE  \n",
       "1783                 946 Eighth Ave Food Corp               946 8th ave  \n",
       "58451           LA Products and Services Corp         2154 Nostrand ave  \n",
       "11819                     SDJR SYSTEMS 1, LLC        208 DYCKMAN STREET  \n",
       "38331           LA Products and Services Corp         2154 Nostrand ave  \n",
       "16615  McDonald's Restaurant of New York INC.        789/42 556 7TH AVE  \n",
       "10815          P. Hendel Products Partnership            289 9th Street  \n",
       "23592           LA Products and Services Corp         2154 Nostrand ave  \n",
       "61817                    MIC-EASTCHESTER, LLC     1826 Eastchester Road  \n",
       "25286           LA Products and Services Corp         2154 Nostrand ave  "
      ]
     },
     "execution_count": 34,
     "metadata": {},
     "output_type": "execute_result"
    }
   ],
   "source": [
    "# Display 10 rows where the restaraunt is McDonald's. Display the Restaraunt Name, Legal Business Name, and Business Address.\n",
    "\n",
    "# Normalize restaraunt name\n",
    "col_restaurant_name = df_cur['RestaurantName']\n",
    "\n",
    "# - remove spacing and from restaraunt name\n",
    "col_restaurant_name = col_restaurant_name.str.replace(' ', '')\n",
    "\n",
    "# - remove punctuation (',-) from RestaurantName\n",
    "col_restaurant_name = col_restaurant_name.str.replace(\n",
    "    ',', '').str.replace(\"'\", '')\n",
    "\n",
    "# - to lowercase\n",
    "col_restaurant_name = col_restaurant_name.str.lower()\n",
    "\n",
    "# Sample rows containing mcdonalds\n",
    "mcdonalds_in_ny = df_cur[col_restaurant_name.str.contains(\n",
    "    'mcdonalds').replace(pd.NA, False)][['RestaurantName', 'LegalBusinessName', 'BusinessAddress']]\n",
    "\n",
    "print(\"Number of McDonald's in NY:\", len(mcdonalds_in_ny))\n",
    "mcdonalds_in_ny.sample(10)"
   ]
  },
  {
   "cell_type": "code",
   "execution_count": 35,
   "metadata": {},
   "outputs": [
    {
     "data": {
      "text/html": [
       "<div>\n",
       "<style scoped>\n",
       "    .dataframe tbody tr th:only-of-type {\n",
       "        vertical-align: middle;\n",
       "    }\n",
       "\n",
       "    .dataframe tbody tr th {\n",
       "        vertical-align: top;\n",
       "    }\n",
       "\n",
       "    .dataframe thead th {\n",
       "        text-align: right;\n",
       "    }\n",
       "</style>\n",
       "<table border=\"1\" class=\"dataframe\">\n",
       "  <thead>\n",
       "    <tr style=\"text-align: right;\">\n",
       "      <th></th>\n",
       "      <th>Borough</th>\n",
       "      <th>RestaurantName</th>\n",
       "      <th>SeatingChoice</th>\n",
       "      <th>LegalBusinessName</th>\n",
       "      <th>BusinessAddress</th>\n",
       "      <th>RestaurantInspectionID</th>\n",
       "      <th>IsSidewayCompliant</th>\n",
       "      <th>IsRoadwayCompliant</th>\n",
       "      <th>SkippedReason</th>\n",
       "      <th>InspectedOn</th>\n",
       "      <th>AgencyCode</th>\n",
       "      <th>Postcode</th>\n",
       "      <th>Latitude</th>\n",
       "      <th>Longitude</th>\n",
       "      <th>CommunityBoard</th>\n",
       "      <th>CouncilDistrict</th>\n",
       "      <th>CensusTract</th>\n",
       "      <th>BIN</th>\n",
       "      <th>BBL</th>\n",
       "      <th>NTA</th>\n",
       "    </tr>\n",
       "  </thead>\n",
       "  <tbody>\n",
       "    <tr>\n",
       "      <th>58452</th>\n",
       "      <td>Brooklyn</td>\n",
       "      <td>Mcdonalds</td>\n",
       "      <td>both</td>\n",
       "      <td>LA Products and Services Corp</td>\n",
       "      <td>2154 Nostrand ave</td>\n",
       "      <td>63892</td>\n",
       "      <td>NaN</td>\n",
       "      <td>Pre-Suspension</td>\n",
       "      <td>NaN</td>\n",
       "      <td>08/26/2021 11:40:48 AM</td>\n",
       "      <td>DOT</td>\n",
       "      <td>11210</td>\n",
       "      <td>40.632428</td>\n",
       "      <td>-73.947655</td>\n",
       "      <td>14.0</td>\n",
       "      <td>45.0</td>\n",
       "      <td>774.0</td>\n",
       "      <td>3205892.0</td>\n",
       "      <td>3.075570e+09</td>\n",
       "      <td>Flatbush</td>\n",
       "    </tr>\n",
       "    <tr>\n",
       "      <th>24751</th>\n",
       "      <td>Brooklyn</td>\n",
       "      <td>Mcdonalds</td>\n",
       "      <td>both</td>\n",
       "      <td>LA Products and Services Corp</td>\n",
       "      <td>2154 Nostrand ave</td>\n",
       "      <td>23884</td>\n",
       "      <td>NaN</td>\n",
       "      <td>Skipped Inspection</td>\n",
       "      <td>No Seating</td>\n",
       "      <td>09/24/2020 01:45:52 PM</td>\n",
       "      <td>DOT</td>\n",
       "      <td>11210</td>\n",
       "      <td>40.632428</td>\n",
       "      <td>-73.947655</td>\n",
       "      <td>14.0</td>\n",
       "      <td>45.0</td>\n",
       "      <td>774.0</td>\n",
       "      <td>3205892.0</td>\n",
       "      <td>3.075570e+09</td>\n",
       "      <td>Flatbush</td>\n",
       "    </tr>\n",
       "  </tbody>\n",
       "</table>\n",
       "</div>"
      ],
      "text/plain": [
       "        Borough RestaurantName SeatingChoice              LegalBusinessName  \\\n",
       "58452  Brooklyn      Mcdonalds          both  LA Products and Services Corp   \n",
       "24751  Brooklyn      Mcdonalds          both  LA Products and Services Corp   \n",
       "\n",
       "         BusinessAddress  RestaurantInspectionID  IsSidewayCompliant  \\\n",
       "58452  2154 Nostrand ave                   63892                 NaN   \n",
       "24751  2154 Nostrand ave                   23884                 NaN   \n",
       "\n",
       "       IsRoadwayCompliant SkippedReason             InspectedOn AgencyCode  \\\n",
       "58452      Pre-Suspension           NaN  08/26/2021 11:40:48 AM        DOT   \n",
       "24751  Skipped Inspection    No Seating  09/24/2020 01:45:52 PM        DOT   \n",
       "\n",
       "       Postcode   Latitude  Longitude  CommunityBoard  CouncilDistrict  \\\n",
       "58452     11210  40.632428 -73.947655            14.0             45.0   \n",
       "24751     11210  40.632428 -73.947655            14.0             45.0   \n",
       "\n",
       "       CensusTract        BIN           BBL       NTA  \n",
       "58452        774.0  3205892.0  3.075570e+09  Flatbush  \n",
       "24751        774.0  3205892.0  3.075570e+09  Flatbush  "
      ]
     },
     "execution_count": 35,
     "metadata": {},
     "output_type": "execute_result"
    }
   ],
   "source": [
    "df_cur.iloc[[58452, 24751]]"
   ]
  },
  {
   "cell_type": "markdown",
   "metadata": {},
   "source": [
    "### DOHMH_New_York_City_Restaraunt_Inspection_Results_20231202.csv\n",
    "\n",
    "Column information for this dataset can be found in [RestaurantInspectionDataDictionary_09242018.xlsx](data/RestaurantInspectionDataDictionary_09242018.xlsx). Note that there are columns in addition to the ones described in the sheet: Latitude,Longitude,Community Board,Council District,Census Tract,BIN,BBL,NTA,Location Point1."
   ]
  },
  {
   "cell_type": "code",
   "execution_count": 36,
   "metadata": {},
   "outputs": [
    {
     "name": "stdout",
     "output_type": "stream",
     "text": [
      "Total Count:  209789\n",
      "Unique Count:  90\n",
      "Type object\n",
      "Null count:  2424\n"
     ]
    }
   ],
   "source": [
    "summarize_column(df_doh['CUISINE DESCRIPTION'], ColumnType.CATEGORICAL, large_category=True)"
   ]
  },
  {
   "cell_type": "markdown",
   "metadata": {},
   "source": [
    "1. Does not seem like there is a lot of quality data when the *Doing Business As* column is empty."
   ]
  },
  {
   "cell_type": "code",
   "execution_count": 37,
   "metadata": {},
   "outputs": [
    {
     "data": {
      "text/html": [
       "<div>\n",
       "<style scoped>\n",
       "    .dataframe tbody tr th:only-of-type {\n",
       "        vertical-align: middle;\n",
       "    }\n",
       "\n",
       "    .dataframe tbody tr th {\n",
       "        vertical-align: top;\n",
       "    }\n",
       "\n",
       "    .dataframe thead th {\n",
       "        text-align: right;\n",
       "    }\n",
       "</style>\n",
       "<table border=\"1\" class=\"dataframe\">\n",
       "  <thead>\n",
       "    <tr style=\"text-align: right;\">\n",
       "      <th></th>\n",
       "      <th>CAMIS</th>\n",
       "      <th>DBA</th>\n",
       "      <th>BORO</th>\n",
       "      <th>BUILDING</th>\n",
       "      <th>STREET</th>\n",
       "      <th>ZIPCODE</th>\n",
       "      <th>PHONE</th>\n",
       "      <th>CUISINE DESCRIPTION</th>\n",
       "      <th>INSPECTION DATE</th>\n",
       "      <th>ACTION</th>\n",
       "      <th>...</th>\n",
       "      <th>INSPECTION TYPE</th>\n",
       "      <th>Latitude</th>\n",
       "      <th>Longitude</th>\n",
       "      <th>Community Board</th>\n",
       "      <th>Council District</th>\n",
       "      <th>Census Tract</th>\n",
       "      <th>BIN</th>\n",
       "      <th>BBL</th>\n",
       "      <th>NTA</th>\n",
       "      <th>Location Point1</th>\n",
       "    </tr>\n",
       "  </thead>\n",
       "  <tbody>\n",
       "    <tr>\n",
       "      <th>498</th>\n",
       "      <td>50120946</td>\n",
       "      <td>NaN</td>\n",
       "      <td>Manhattan</td>\n",
       "      <td>385</td>\n",
       "      <td>5 AVENUE</td>\n",
       "      <td>10016.0</td>\n",
       "      <td>9176014161</td>\n",
       "      <td>NaN</td>\n",
       "      <td>01/01/1900</td>\n",
       "      <td>NaN</td>\n",
       "      <td>...</td>\n",
       "      <td>NaN</td>\n",
       "      <td>40.749556</td>\n",
       "      <td>-73.983726</td>\n",
       "      <td>105.0</td>\n",
       "      <td>4.0</td>\n",
       "      <td>8200.0</td>\n",
       "      <td>1017134.0</td>\n",
       "      <td>1.008650e+09</td>\n",
       "      <td>MN20</td>\n",
       "      <td>NaN</td>\n",
       "    </tr>\n",
       "    <tr>\n",
       "      <th>69424</th>\n",
       "      <td>50144307</td>\n",
       "      <td>NaN</td>\n",
       "      <td>Manhattan</td>\n",
       "      <td>218</td>\n",
       "      <td>WEST   23 STREET</td>\n",
       "      <td>10011.0</td>\n",
       "      <td>2125181813</td>\n",
       "      <td>NaN</td>\n",
       "      <td>01/01/1900</td>\n",
       "      <td>NaN</td>\n",
       "      <td>...</td>\n",
       "      <td>NaN</td>\n",
       "      <td>40.744419</td>\n",
       "      <td>-73.996442</td>\n",
       "      <td>104.0</td>\n",
       "      <td>3.0</td>\n",
       "      <td>9100.0</td>\n",
       "      <td>1014130.0</td>\n",
       "      <td>1.007720e+09</td>\n",
       "      <td>MN13</td>\n",
       "      <td>NaN</td>\n",
       "    </tr>\n",
       "    <tr>\n",
       "      <th>172571</th>\n",
       "      <td>50143347</td>\n",
       "      <td>NaN</td>\n",
       "      <td>Queens</td>\n",
       "      <td>18518</td>\n",
       "      <td>HILLSIDE AVE</td>\n",
       "      <td>11432.0</td>\n",
       "      <td>9178604544</td>\n",
       "      <td>NaN</td>\n",
       "      <td>01/01/1900</td>\n",
       "      <td>NaN</td>\n",
       "      <td>...</td>\n",
       "      <td>NaN</td>\n",
       "      <td>40.714309</td>\n",
       "      <td>-73.776860</td>\n",
       "      <td>412.0</td>\n",
       "      <td>23.0</td>\n",
       "      <td>48000.0</td>\n",
       "      <td>4212799.0</td>\n",
       "      <td>4.099330e+09</td>\n",
       "      <td>QN61</td>\n",
       "      <td>NaN</td>\n",
       "    </tr>\n",
       "    <tr>\n",
       "      <th>159</th>\n",
       "      <td>50142591</td>\n",
       "      <td>NaN</td>\n",
       "      <td>Manhattan</td>\n",
       "      <td>232</td>\n",
       "      <td>WEST   14 STREET</td>\n",
       "      <td>10011.0</td>\n",
       "      <td>3479875444</td>\n",
       "      <td>NaN</td>\n",
       "      <td>01/01/1900</td>\n",
       "      <td>NaN</td>\n",
       "      <td>...</td>\n",
       "      <td>NaN</td>\n",
       "      <td>40.738993</td>\n",
       "      <td>-74.000761</td>\n",
       "      <td>102.0</td>\n",
       "      <td>3.0</td>\n",
       "      <td>7700.0</td>\n",
       "      <td>1011102.0</td>\n",
       "      <td>1.006180e+09</td>\n",
       "      <td>MN23</td>\n",
       "      <td>NaN</td>\n",
       "    </tr>\n",
       "    <tr>\n",
       "      <th>162718</th>\n",
       "      <td>50128130</td>\n",
       "      <td>NaN</td>\n",
       "      <td>Brooklyn</td>\n",
       "      <td>2504B</td>\n",
       "      <td>FLATBUSH AVE</td>\n",
       "      <td>11234.0</td>\n",
       "      <td>3479930857</td>\n",
       "      <td>NaN</td>\n",
       "      <td>01/01/1900</td>\n",
       "      <td>NaN</td>\n",
       "      <td>...</td>\n",
       "      <td>NaN</td>\n",
       "      <td>40.609223</td>\n",
       "      <td>-73.921868</td>\n",
       "      <td>318.0</td>\n",
       "      <td>46.0</td>\n",
       "      <td>66200.0</td>\n",
       "      <td>NaN</td>\n",
       "      <td>3.000000e+00</td>\n",
       "      <td>BK45</td>\n",
       "      <td>NaN</td>\n",
       "    </tr>\n",
       "  </tbody>\n",
       "</table>\n",
       "<p>5 rows × 27 columns</p>\n",
       "</div>"
      ],
      "text/plain": [
       "           CAMIS  DBA       BORO BUILDING            STREET  ZIPCODE  \\\n",
       "498     50120946  NaN  Manhattan      385          5 AVENUE  10016.0   \n",
       "69424   50144307  NaN  Manhattan      218  WEST   23 STREET  10011.0   \n",
       "172571  50143347  NaN     Queens    18518      HILLSIDE AVE  11432.0   \n",
       "159     50142591  NaN  Manhattan      232  WEST   14 STREET  10011.0   \n",
       "162718  50128130  NaN   Brooklyn    2504B      FLATBUSH AVE  11234.0   \n",
       "\n",
       "             PHONE CUISINE DESCRIPTION INSPECTION DATE ACTION  ...  \\\n",
       "498     9176014161                 NaN      01/01/1900    NaN  ...   \n",
       "69424   2125181813                 NaN      01/01/1900    NaN  ...   \n",
       "172571  9178604544                 NaN      01/01/1900    NaN  ...   \n",
       "159     3479875444                 NaN      01/01/1900    NaN  ...   \n",
       "162718  3479930857                 NaN      01/01/1900    NaN  ...   \n",
       "\n",
       "       INSPECTION TYPE   Latitude  Longitude  Community Board  \\\n",
       "498                NaN  40.749556 -73.983726            105.0   \n",
       "69424              NaN  40.744419 -73.996442            104.0   \n",
       "172571             NaN  40.714309 -73.776860            412.0   \n",
       "159                NaN  40.738993 -74.000761            102.0   \n",
       "162718             NaN  40.609223 -73.921868            318.0   \n",
       "\n",
       "       Council District Census Tract        BIN           BBL   NTA  \\\n",
       "498                 4.0       8200.0  1017134.0  1.008650e+09  MN20   \n",
       "69424               3.0       9100.0  1014130.0  1.007720e+09  MN13   \n",
       "172571             23.0      48000.0  4212799.0  4.099330e+09  QN61   \n",
       "159                 3.0       7700.0  1011102.0  1.006180e+09  MN23   \n",
       "162718             46.0      66200.0        NaN  3.000000e+00  BK45   \n",
       "\n",
       "        Location Point1  \n",
       "498                 NaN  \n",
       "69424               NaN  \n",
       "172571              NaN  \n",
       "159                 NaN  \n",
       "162718              NaN  \n",
       "\n",
       "[5 rows x 27 columns]"
      ]
     },
     "execution_count": 37,
     "metadata": {},
     "output_type": "execute_result"
    }
   ],
   "source": [
    "df_doh[df_doh['DBA'].isnull()].sample(5)"
   ]
  },
  {
   "cell_type": "markdown",
   "metadata": {},
   "source": [
    "**Question** Are there any *NaN* values in INSPECTION DATE? How many dates are 1/1/1900?"
   ]
  },
  {
   "cell_type": "code",
   "execution_count": 38,
   "metadata": {},
   "outputs": [
    {
     "name": "stdout",
     "output_type": "stream",
     "text": [
      "Total Count:  209789\n",
      "Unique Count:  1675\n",
      "Type object\n",
      "Null count:  0\n"
     ]
    }
   ],
   "source": [
    "summarize_column(df_doh['INSPECTION DATE'], ColumnType.CATEGORICAL, large_category=True)"
   ]
  },
  {
   "cell_type": "code",
   "execution_count": 39,
   "metadata": {},
   "outputs": [
    {
     "data": {
      "text/plain": [
       "2424"
      ]
     },
     "execution_count": 39,
     "metadata": {},
     "output_type": "execute_result"
    }
   ],
   "source": [
    "(df_doh['INSPECTION DATE'] == '01/01/1900').sum()"
   ]
  },
  {
   "cell_type": "code",
   "execution_count": 40,
   "metadata": {},
   "outputs": [
    {
     "name": "stdout",
     "output_type": "stream",
     "text": [
      "Total Count:  209789\n",
      "Null count:  9996\n",
      "count    199793.000000\n",
      "mean         22.843053\n",
      "std          17.554237\n",
      "min           0.000000\n",
      "25%          11.000000\n",
      "50%          19.000000\n",
      "75%          31.000000\n",
      "max         168.000000\n",
      "Name: SCORE, dtype: float64\n"
     ]
    }
   ],
   "source": [
    "summarize_column(df_doh['SCORE'], ColumnType.CONTINUOUS, large_category=False)"
   ]
  },
  {
   "cell_type": "code",
   "execution_count": 41,
   "metadata": {},
   "outputs": [
    {
     "data": {
      "text/plain": [
       "<Axes: ylabel='Frequency'>"
      ]
     },
     "execution_count": 41,
     "metadata": {},
     "output_type": "execute_result"
    },
    {
     "data": {
      "image/png": "[encoded data removed]",
      "text/plain": [
       "<Figure size 640x480 with 1 Axes>"
      ]
     },
     "metadata": {},
     "output_type": "display_data"
    }
   ],
   "source": [
    "df_doh['SCORE'].plot.hist(alpha=0.5)"
   ]
  },
  {
   "cell_type": "code",
   "execution_count": 42,
   "metadata": {},
   "outputs": [
    {
     "data": {
      "text/plain": [
       "True"
      ]
     },
     "execution_count": 42,
     "metadata": {},
     "output_type": "execute_result"
    }
   ],
   "source": [
    "# Check if all the values in Score could be converted to int\n",
    "(df_doh[df_doh['SCORE'].notnull()]['SCORE'].astype(int) ==\n",
    " df_doh[df_doh['SCORE'].notnull()]['SCORE']).sum() == len(df_doh[df_doh['SCORE'].notnull()])"
   ]
  },
  {
   "cell_type": "code",
   "execution_count": 43,
   "metadata": {},
   "outputs": [
    {
     "name": "stdout",
     "output_type": "stream",
     "text": [
      "Total Count:  209789\n",
      "Null count:  115581\n",
      "count          94208\n",
      "unique          1449\n",
      "top       12/01/2022\n",
      "freq             350\n",
      "Name: GRADE DATE, dtype: object\n"
     ]
    }
   ],
   "source": [
    "# Summarize record date\n",
    "summarize_column(df_doh['GRADE DATE'], ColumnType.CONTINUOUS, large_category=True)\n"
   ]
  },
  {
   "cell_type": "code",
   "execution_count": 44,
   "metadata": {},
   "outputs": [
    {
     "name": "stdout",
     "output_type": "stream",
     "text": [
      "2015-09-24 00:00:00\n",
      "2023-11-29 00:00:00\n"
     ]
    }
   ],
   "source": [
    "# Convert from str to datetime\n",
    "print(df_doh['GRADE DATE'].astype('datetime64[ns]').min())\n",
    "print(df_doh['GRADE DATE'].astype('datetime64[ns]').max())"
   ]
  },
  {
   "cell_type": "code",
   "execution_count": 45,
   "metadata": {},
   "outputs": [
    {
     "name": "stdout",
     "output_type": "stream",
     "text": [
      "Total Count:  209789\n",
      "Unique: [nan 'Inter-Agency Task Force / Initial Inspection'\n",
      " 'Cycle Inspection / Initial Inspection'\n",
      " 'Administrative Miscellaneous / Re-inspection'\n",
      " 'Pre-permit (Operational) / Initial Inspection'\n",
      " 'Smoke-Free Air Act / Limited Inspection'\n",
      " 'Cycle Inspection / Reopening Inspection'\n",
      " 'Cycle Inspection / Re-inspection'\n",
      " 'Administrative Miscellaneous / Initial Inspection'\n",
      " 'Pre-permit (Non-operational) / Initial Inspection'\n",
      " 'Pre-permit (Operational) / Compliance Inspection'\n",
      " 'Pre-permit (Operational) / Re-inspection'\n",
      " 'Smoke-Free Air Act / Re-inspection'\n",
      " 'Smoke-Free Air Act / Initial Inspection'\n",
      " 'Trans Fat / Initial Inspection'\n",
      " 'Pre-permit (Operational) / Reopening Inspection'\n",
      " 'Cycle Inspection / Compliance Inspection'\n",
      " 'Calorie Posting / Initial Inspection'\n",
      " 'Administrative Miscellaneous / Reopening Inspection'\n",
      " 'Trans Fat / Re-inspection'\n",
      " 'Pre-permit (Operational) / Second Compliance Inspection'\n",
      " 'Pre-permit (Non-operational) / Re-inspection'\n",
      " 'Administrative Miscellaneous / Compliance Inspection'\n",
      " 'Calorie Posting / Re-inspection'\n",
      " 'Cycle Inspection / Second Compliance Inspection'\n",
      " 'Administrative Miscellaneous / Second Compliance Inspection'\n",
      " 'Trans Fat / Compliance Inspection'\n",
      " 'Pre-permit (Non-operational) / Compliance Inspection'\n",
      " 'Smoke-Free Air Act / Compliance Inspection'\n",
      " 'Calorie Posting / Compliance Inspection'\n",
      " 'Pre-permit (Non-operational) / Second Compliance Inspection'\n",
      " 'Inter-Agency Task Force / Re-inspection'] Count:  32\n",
      "INSPECTION TYPE\n",
      "Cycle Inspection / Initial Inspection                          113391\n",
      "Cycle Inspection / Re-inspection                                37298\n",
      "Pre-permit (Operational) / Initial Inspection                   31551\n",
      "Pre-permit (Operational) / Re-inspection                         9643\n",
      "Administrative Miscellaneous / Initial Inspection                4980\n",
      "Pre-permit (Non-operational) / Initial Inspection                2618\n",
      "Pre-permit (Operational) / Compliance Inspection                 1627\n",
      "Cycle Inspection / Reopening Inspection                          1405\n",
      "Administrative Miscellaneous / Re-inspection                      990\n",
      "Cycle Inspection / Compliance Inspection                          758\n",
      "Pre-permit (Operational) / Reopening Inspection                   736\n",
      "Smoke-Free Air Act / Initial Inspection                           555\n",
      "Trans Fat / Initial Inspection                                    389\n",
      "Calorie Posting / Initial Inspection                              331\n",
      "Inter-Agency Task Force / Initial Inspection                      318\n",
      "Pre-permit (Operational) / Second Compliance Inspection           202\n",
      "Pre-permit (Non-operational) / Re-inspection                      193\n",
      "Administrative Miscellaneous / Compliance Inspection              100\n",
      "Trans Fat / Re-inspection                                          63\n",
      "Calorie Posting / Re-inspection                                    53\n",
      "Smoke-Free Air Act / Re-inspection                                 46\n",
      "Administrative Miscellaneous / Reopening Inspection                43\n",
      "Cycle Inspection / Second Compliance Inspection                    33\n",
      "Pre-permit (Non-operational) / Compliance Inspection               17\n",
      "Administrative Miscellaneous / Second Compliance Inspection         8\n",
      "Smoke-Free Air Act / Limited Inspection                             7\n",
      "Smoke-Free Air Act / Compliance Inspection                          4\n",
      "Trans Fat / Compliance Inspection                                   2\n",
      "Pre-permit (Non-operational) / Second Compliance Inspection         2\n",
      "Calorie Posting / Compliance Inspection                             1\n",
      "Inter-Agency Task Force / Re-inspection                             1\n",
      "Name: count, dtype: int64\n",
      "Type object\n",
      "Null count:  2424\n"
     ]
    },
    {
     "data": {
      "image/png": "[encoded data removed]",
      "text/plain": [
       "<Figure size 640x480 with 1 Axes>"
      ]
     },
     "metadata": {},
     "output_type": "display_data"
    }
   ],
   "source": [
    "# Summarize and sample the actions\n",
    "# summarize_column(df_doh['VIOLATION CODE'], ColumnType.CATEGORICAL, large_category=False)\n",
    "summarize_column(df_doh['INSPECTION TYPE'], ColumnType.CATEGORICAL, large_category=False)"
   ]
  },
  {
   "cell_type": "markdown",
   "metadata": {},
   "source": [
    "**Question**: Is CAMIS (restaurant permit) per branch / location or for the whole busines?"
   ]
  },
  {
   "cell_type": "code",
   "execution_count": 46,
   "metadata": {},
   "outputs": [
    {
     "name": "stdout",
     "output_type": "stream",
     "text": [
      "Number of McDonald's in NY: 1202\n"
     ]
    },
    {
     "data": {
      "text/html": [
       "<div>\n",
       "<style scoped>\n",
       "    .dataframe tbody tr th:only-of-type {\n",
       "        vertical-align: middle;\n",
       "    }\n",
       "\n",
       "    .dataframe tbody tr th {\n",
       "        vertical-align: top;\n",
       "    }\n",
       "\n",
       "    .dataframe thead th {\n",
       "        text-align: right;\n",
       "    }\n",
       "</style>\n",
       "<table border=\"1\" class=\"dataframe\">\n",
       "  <thead>\n",
       "    <tr style=\"text-align: right;\">\n",
       "      <th></th>\n",
       "      <th>CAMIS</th>\n",
       "      <th>DBA</th>\n",
       "      <th>STREET</th>\n",
       "    </tr>\n",
       "  </thead>\n",
       "  <tbody>\n",
       "    <tr>\n",
       "      <th>166799</th>\n",
       "      <td>50033277</td>\n",
       "      <td>MCDONALD'S</td>\n",
       "      <td>MERRICK BLVD</td>\n",
       "    </tr>\n",
       "    <tr>\n",
       "      <th>98071</th>\n",
       "      <td>40391639</td>\n",
       "      <td>MCDONALD'S</td>\n",
       "      <td>BRUCKNER BOULEVARD</td>\n",
       "    </tr>\n",
       "    <tr>\n",
       "      <th>65964</th>\n",
       "      <td>50010254</td>\n",
       "      <td>MCDONALD'S</td>\n",
       "      <td>31ST ST</td>\n",
       "    </tr>\n",
       "    <tr>\n",
       "      <th>20210</th>\n",
       "      <td>41603147</td>\n",
       "      <td>MCDONALD'S</td>\n",
       "      <td>WEBSTER AVENUE</td>\n",
       "    </tr>\n",
       "    <tr>\n",
       "      <th>188101</th>\n",
       "      <td>40395910</td>\n",
       "      <td>MCDONALD'S</td>\n",
       "      <td>NORTHERN BOULEVARD</td>\n",
       "    </tr>\n",
       "    <tr>\n",
       "      <th>141786</th>\n",
       "      <td>50070471</td>\n",
       "      <td>MCDONALDS # 18093</td>\n",
       "      <td>WEST  125 STREET</td>\n",
       "    </tr>\n",
       "    <tr>\n",
       "      <th>203514</th>\n",
       "      <td>50068988</td>\n",
       "      <td>MCDONALD'S #13068</td>\n",
       "      <td>CONEY ISLAND AVENUE</td>\n",
       "    </tr>\n",
       "    <tr>\n",
       "      <th>108959</th>\n",
       "      <td>40369782</td>\n",
       "      <td>MCDONALD'S</td>\n",
       "      <td>UTICA AVENUE</td>\n",
       "    </tr>\n",
       "    <tr>\n",
       "      <th>86358</th>\n",
       "      <td>41241627</td>\n",
       "      <td>MCDONALD'S</td>\n",
       "      <td>UNIVERSITY AVENUE</td>\n",
       "    </tr>\n",
       "    <tr>\n",
       "      <th>163943</th>\n",
       "      <td>50044989</td>\n",
       "      <td>MCDONALD'S</td>\n",
       "      <td>BROADWAY</td>\n",
       "    </tr>\n",
       "  </tbody>\n",
       "</table>\n",
       "</div>"
      ],
      "text/plain": [
       "           CAMIS                DBA               STREET\n",
       "166799  50033277         MCDONALD'S         MERRICK BLVD\n",
       "98071   40391639         MCDONALD'S   BRUCKNER BOULEVARD\n",
       "65964   50010254         MCDONALD'S              31ST ST\n",
       "20210   41603147         MCDONALD'S       WEBSTER AVENUE\n",
       "188101  40395910         MCDONALD'S   NORTHERN BOULEVARD\n",
       "141786  50070471  MCDONALDS # 18093     WEST  125 STREET\n",
       "203514  50068988  MCDONALD'S #13068  CONEY ISLAND AVENUE\n",
       "108959  40369782         MCDONALD'S         UTICA AVENUE\n",
       "86358   41241627         MCDONALD'S    UNIVERSITY AVENUE\n",
       "163943  50044989         MCDONALD'S             BROADWAY"
      ]
     },
     "execution_count": 46,
     "metadata": {},
     "output_type": "execute_result"
    }
   ],
   "source": [
    "# Display 10 rows where the restaraunt is McDonald's.\n",
    "\n",
    "# Normalize restaraunt name\n",
    "col_restaurant_name = df_doh['DBA']\n",
    "\n",
    "# - remove spacing and from restaraunt name\n",
    "col_restaurant_name = col_restaurant_name.str.replace(' ', '')\n",
    "\n",
    "# - remove punctuation (',-) from RestaurantName\n",
    "col_restaurant_name = col_restaurant_name.str.replace(\n",
    "    ',', '').str.replace(\"'\", '')\n",
    "\n",
    "# - to lowercase\n",
    "col_restaurant_name = col_restaurant_name.str.lower()\n",
    "\n",
    "# Sample rows containing mcdonalds\n",
    "mcdonalds_in_ny = df_doh[col_restaurant_name.str.contains(\n",
    "    'mcdonalds').replace(pd.NA, False)][['CAMIS', 'DBA', 'STREET']]\n",
    "\n",
    "print(\"Number of McDonald's in NY:\", len(mcdonalds_in_ny))\n",
    "mcdonalds_in_ny.sample(10)"
   ]
  },
  {
   "cell_type": "code",
   "execution_count": 58,
   "metadata": {},
   "outputs": [
    {
     "name": "stdout",
     "output_type": "stream",
     "text": [
      "Business: A\n",
      "  Business  Value\n",
      "0        A     10\n",
      "2        A     30\n",
      "5        A     60\n",
      "0\n",
      "2\n",
      "5\n",
      "Business: B\n",
      "  Business  Value\n",
      "1        B     20\n",
      "4        B     50\n",
      "1\n",
      "4\n",
      "Business: C\n",
      "  Business  Value\n",
      "3        C     40\n",
      "6        C     70\n",
      "3\n",
      "6\n"
     ]
    }
   ],
   "source": [
    "data = {'Business': ['A', 'B', 'A', 'C', 'B', 'A', 'C'],\n",
    "        'Value': [10, 20, 30, 40, 50, 60, 70]}\n",
    "df = pd.DataFrame(data)\n",
    "\n",
    "# Group by the 'Business' column\n",
    "grouped = df.groupby('Business')\n",
    "\n",
    "# Iterate through each group\n",
    "for business, group_df in grouped:\n",
    "    print(f\"Business: {business}\")\n",
    "    print(group_df)\n",
    "\n",
    "    for index, row in group_df.iterrows():\n",
    "        print(index)"
   ]
  },
  {
   "cell_type": "code",
   "execution_count": null,
   "metadata": {},
   "outputs": [],
   "source": []
  }
 ],
 "metadata": {
  "kernelspec": {
   "display_name": "project-2-restaraunt-analytics-PhY6UyjO-py3.10",
   "language": "python",
   "name": "python3"
  },
  "language_info": {
   "codemirror_mode": {
    "name": "ipython",
    "version": 3
   },
   "file_extension": ".py",
   "mimetype": "text/x-python",
   "name": "python",
   "nbconvert_exporter": "python",
   "pygments_lexer": "ipython3",
   "version": "3.10.12"
  }
 },
 "nbformat": 4,
 "nbformat_minor": 2
}
