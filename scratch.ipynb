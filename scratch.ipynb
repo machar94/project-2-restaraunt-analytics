{
 "cells": [
  {
   "cell_type": "code",
   "execution_count": 1,
   "metadata": {},
   "outputs": [],
   "source": [
    "import pandas as pd"
   ]
  },
  {
   "cell_type": "code",
   "execution_count": 6,
   "metadata": {},
   "outputs": [],
   "source": [
    "dfs = {}\n",
    "dfs['1_OpenRestaurantApplications'] = pd.read_csv('data/raw/1_OpenRestaurantApplications.csv')\n",
    "dfs['2_OpenRestaurantInspections'] = pd.read_csv('data/raw/2_OpenRestaurantInspections.csv')\n",
    "dfs['3_RestaurantInspections'] = pd.read_csv('data/raw/3_RestaurantInspections.csv')\n",
    "dfs['SidewalkInspection'] = pd.read_csv('data/formatted/SidewalkInspection.csv')"
   ]
  },
  {
   "cell_type": "code",
   "execution_count": 7,
   "metadata": {},
   "outputs": [],
   "source": [
    "df = dfs['1_OpenRestaurantApplications']"
   ]
  },
  {
   "cell_type": "code",
   "execution_count": 8,
   "metadata": {},
   "outputs": [
    {
     "data": {
      "text/html": [
       "<div>\n",
       "<style scoped>\n",
       "    .dataframe tbody tr th:only-of-type {\n",
       "        vertical-align: middle;\n",
       "    }\n",
       "\n",
       "    .dataframe tbody tr th {\n",
       "        vertical-align: top;\n",
       "    }\n",
       "\n",
       "    .dataframe thead th {\n",
       "        text-align: right;\n",
       "    }\n",
       "</style>\n",
       "<table border=\"1\" class=\"dataframe\">\n",
       "  <thead>\n",
       "    <tr style=\"text-align: right;\">\n",
       "      <th></th>\n",
       "      <th>ID</th>\n",
       "      <th>RestaurantID</th>\n",
       "      <th>InspectedOn</th>\n",
       "      <th>SidewayCompliant</th>\n",
       "      <th>SkippedReason</th>\n",
       "      <th>AgencyCode</th>\n",
       "    </tr>\n",
       "  </thead>\n",
       "  <tbody>\n",
       "    <tr>\n",
       "      <th>79201</th>\n",
       "      <td>2756802178677412334</td>\n",
       "      <td>NaN</td>\n",
       "      <td>2023-12-01 22:00:48+00:00</td>\n",
       "      <td>For HIQA Review</td>\n",
       "      <td>NaN</td>\n",
       "      <td>DOT</td>\n",
       "    </tr>\n",
       "  </tbody>\n",
       "</table>\n",
       "</div>"
      ],
      "text/plain": [
       "                        ID  RestaurantID                InspectedOn  \\\n",
       "79201  2756802178677412334           NaN  2023-12-01 22:00:48+00:00   \n",
       "\n",
       "      SidewayCompliant SkippedReason AgencyCode  \n",
       "79201  For HIQA Review           NaN        DOT  "
      ]
     },
     "execution_count": 8,
     "metadata": {},
     "output_type": "execute_result"
    }
   ],
   "source": [
    "dfs['SidewalkInspection'][dfs['SidewalkInspection']['RestaurantID'].isnull()]"
   ]
  },
  {
   "cell_type": "code",
   "execution_count": 13,
   "metadata": {},
   "outputs": [
    {
     "data": {
      "text/plain": [
       "3703120273360482077"
      ]
     },
     "execution_count": 13,
     "metadata": {},
     "output_type": "execute_result"
    }
   ],
   "source": [
    "import random\n",
    "\n"
   ]
  },
  {
   "cell_type": "code",
   "execution_count": null,
   "metadata": {},
   "outputs": [],
   "source": []
  }
 ],
 "metadata": {
  "kernelspec": {
   "display_name": ".venv",
   "language": "python",
   "name": "python3"
  },
  "language_info": {
   "codemirror_mode": {
    "name": "ipython",
    "version": 3
   },
   "file_extension": ".py",
   "mimetype": "text/x-python",
   "name": "python",
   "nbconvert_exporter": "python",
   "pygments_lexer": "ipython3",
   "version": "3.10.12"
  }
 },
 "nbformat": 4,
 "nbformat_minor": 2
}
