{
 "cells": [
  {
   "cell_type": "code",
   "execution_count": 1,
   "metadata": {},
   "outputs": [],
   "source": [
    "import pandas as pd"
   ]
  },
  {
   "cell_type": "code",
   "execution_count": 2,
   "metadata": {},
   "outputs": [],
   "source": [
    "dfs = {}\n",
    "dfs['OpenRestaurantApplications'] = pd.read_csv('data/raw/1_OpenRestaurantApplications.csv')\n",
    "dfs['OpenRestaurantInspections'] = pd.read_csv('data/raw/2_OpenRestaurantInspections.csv')\n",
    "dfs['RestaurantInspections'] = pd.read_csv('data/raw/3_RestaurantInspections.csv')\n",
    "dfs['SidewalkInspection'] = pd.read_csv('data/formatted/SidewalkInspection.csv')"
   ]
  },
  {
   "cell_type": "code",
   "execution_count": 3,
   "metadata": {},
   "outputs": [],
   "source": [
    "df = dfs['OpenRestaurantInspections']\n",
    "addresses = df['BusinessAddress']"
   ]
  },
  {
   "cell_type": "code",
   "execution_count": 8,
   "metadata": {},
   "outputs": [
    {
     "name": "stdout",
     "output_type": "stream",
     "text": [
      "OrderedDict([('address_line_1', '45 WEST 27TH STREET'), ('address_line_2', None), ('city', None), ('state', None), ('postal_code', None)])\n",
      "OrderedDict([('address_line_1', '45 W 27TH ST'), ('address_line_2', None), ('city', None), ('state', None), ('postal_code', None)])\n"
     ]
    }
   ],
   "source": [
    "from scourgify import normalize_address_record\n",
    "\n",
    "print(normalize_address_record(addresses[0], long_hand=True))\n",
    "print(normalize_address_record(addresses[0], long_hand=False))"
   ]
  },
  {
   "cell_type": "code",
   "execution_count": 17,
   "metadata": {},
   "outputs": [],
   "source": [
    "indexes = []\n",
    "\n",
    "for index, address in addresses.items():\n",
    "    try:\n",
    "        normalize_address_record(address)\n",
    "    except Exception as e:\n",
    "        indexes.append(index)"
   ]
  },
  {
   "cell_type": "code",
   "execution_count": 23,
   "metadata": {},
   "outputs": [],
   "source": [
    "errors = addresses.loc[indexes]"
   ]
  },
  {
   "cell_type": "code",
   "execution_count": 31,
   "metadata": {},
   "outputs": [
    {
     "name": "stdout",
     "output_type": "stream",
     "text": [
      "Percentage of addresses that could not be normalized: 0.66%\n",
      "Errors: 522\n",
      "Total: 79203\n"
     ]
    }
   ],
   "source": [
    "print(f\"Percentage of addresses that could not be normalized: { round(len(errors)/len(addresses) * 100, 2)}%\")\n",
    "print(f\"Errors: {len(errors)}\")\n",
    "print(f\"Total: {len(addresses)}\")"
   ]
  },
  {
   "cell_type": "code",
   "execution_count": 4,
   "metadata": {},
   "outputs": [
    {
     "name": "stdout",
     "output_type": "stream",
     "text": [
      "/home/madhav/ws/project-2-restaraunt-analytics/config\n"
     ]
    },
    {
     "data": {
      "text/plain": [
       "3098     {'address_line_1': '31W 32ND STREE', 'address_...\n",
       "12144    {'address_line_1': '31W 32ND STREE', 'address_...\n",
       "12246    {'address_line_1': '31W 32ND STREE', 'address_...\n",
       "21448    {'address_line_1': '31W 32ND STREE', 'address_...\n",
       "21471    {'address_line_1': '31W 32ND STREE', 'address_...\n",
       "21686    {'address_line_1': '31W 32ND STREE', 'address_...\n",
       "29114    {'address_line_1': '31W 32ND STREE', 'address_...\n",
       "36783    {'address_line_1': '31W 32ND STREE', 'address_...\n",
       "38751    {'address_line_1': '31W 32ND STREE', 'address_...\n",
       "59888    {'address_line_1': '31W 32ND STREE', 'address_...\n",
       "59958    {'address_line_1': '31W 32ND STREE', 'address_...\n",
       "68790    {'address_line_1': '31W 32ND STREE', 'address_...\n",
       "Name: BusinessAddress, dtype: object"
      ]
     },
     "execution_count": 4,
     "metadata": {},
     "output_type": "execute_result"
    }
   ],
   "source": [
    "# Question, does the address_constants.yaml file work\n",
    "\n",
    "# Set the environment variable ADDRESS_CONFIG_DIR\n",
    "import os\n",
    "\n",
    "# Get the path to the git root directory\n",
    "git_root = os.popen('git rev-parse --show-toplevel').read().strip()\n",
    "dir = f'{git_root}/config'\n",
    "print(dir)\n",
    "\n",
    "os.environ['ADDRESS_CONFIG_DIR'] = dir\n",
    "\n",
    "from scourgify import normalize_address_record\n",
    "\n",
    "# Ends with Stree\n",
    "strees = addresses[addresses.str.endswith('Stree')]\n",
    "\n",
    "strees.apply(normalize_address_record)"
   ]
  },
  {
   "cell_type": "code",
   "execution_count": null,
   "metadata": {},
   "outputs": [],
   "source": []
  }
 ],
 "metadata": {
  "kernelspec": {
   "display_name": ".venv",
   "language": "python",
   "name": "python3"
  },
  "language_info": {
   "codemirror_mode": {
    "name": "ipython",
    "version": 3
   },
   "file_extension": ".py",
   "mimetype": "text/x-python",
   "name": "python",
   "nbconvert_exporter": "python",
   "pygments_lexer": "ipython3",
   "version": "3.10.12"
  }
 },
 "nbformat": 4,
 "nbformat_minor": 2
}
