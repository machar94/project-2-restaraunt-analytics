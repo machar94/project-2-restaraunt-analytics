{
 "cells": [
  {
   "cell_type": "code",
   "execution_count": 11,
   "metadata": {},
   "outputs": [],
   "source": [
    "import pandas as pd"
   ]
  },
  {
   "cell_type": "code",
   "execution_count": 12,
   "metadata": {},
   "outputs": [],
   "source": [
    "dfs = {}\n",
    "dfs['OpenRestaurantApplications'] = pd.read_csv('data/raw/1_OpenRestaurantApplications.csv')\n",
    "dfs['OpenRestaurantInspections'] = pd.read_csv('data/raw/2_OpenRestaurantInspections.csv')\n",
    "dfs['RestaurantInspections'] = pd.read_csv('data/raw/3_RestaurantInspections.csv')\n",
    "dfs['SidewalkInspection'] = pd.read_csv('data/formatted/SidewalkInspection.csv')"
   ]
  },
  {
   "cell_type": "code",
   "execution_count": 13,
   "metadata": {},
   "outputs": [],
   "source": [
    "df = dfs['OpenRestaurantInspections']\n",
    "addresses = df['BusinessAddress']"
   ]
  },
  {
   "cell_type": "code",
   "execution_count": 78,
   "metadata": {},
   "outputs": [
    {
     "name": "stdout",
     "output_type": "stream",
     "text": [
      "         Borough        RestaurantName SeatingChoice       LegalBusinessName  \\\n",
      "0      Manhattan           Oscar Wilde          both      Camelot Castle LLC   \n",
      "81     Manhattan    CROMPTON ALE HOUSE          both              151DBS INC   \n",
      "82     Manhattan             OUR VODKA          both  OUR/NEW YORK VODKA LLC   \n",
      "86     Manhattan         The Ainsworth          both           FONDUE 26 LLC   \n",
      "89     Manhattan              Gregorys      sidewalk        775 AOA Cafe LLC   \n",
      "...          ...                   ...           ...                     ...   \n",
      "78885  Manhattan  Playwright Irish pub          both        N& A productions   \n",
      "78886  Manhattan       The Liberty NYC          both            18 Fools LLC   \n",
      "79116  Manhattan         missKorea BBQ          both              Oblatn.Inc   \n",
      "79182  Manhattan       MUSTANG HARRY'S      sidewalk     352 RESTAURANT CORP   \n",
      "79185  Manhattan       MUSTANG HARRY'S      sidewalk     352 RESTAURANT CORP   \n",
      "\n",
      "            BusinessAddress  RestaurantInspectionID  IsSidewayCompliant  \\\n",
      "0          45  West 27th st                   72891                 NaN   \n",
      "81     159 WEST   26 STREET                   72977                 NaN   \n",
      "82     151 WEST   26 STREET                   72978                 NaN   \n",
      "86     122 West 26th Street                   72983                 NaN   \n",
      "89              775 6th Ave                   72986                 NaN   \n",
      "...                     ...                     ...                 ...   \n",
      "78885         27  West 35th                  105561                 NaN   \n",
      "78886      29 W 35th Street                  105562                 NaN   \n",
      "79116   10 West 32nd Street                  107787                 NaN   \n",
      "79182    352 SEVENTH AVENUE                  107857                 NaN   \n",
      "79185    352 SEVENTH AVENUE                  107860                 NaN   \n",
      "\n",
      "       IsRoadwayCompliant SkippedReason             InspectedOn AgencyCode  \\\n",
      "0           Non-Compliant           NaN  12/20/2021 04:06:58 PM        DOT   \n",
      "81              Compliant           NaN  12/21/2021 02:25:58 PM        DOT   \n",
      "82          Non-Compliant           NaN  12/21/2021 02:27:25 PM        DOT   \n",
      "86          Non-Compliant           NaN  12/21/2021 02:45:00 PM        DOT   \n",
      "89     Skipped Inspection    No Seating  12/21/2021 02:48:27 PM        DOT   \n",
      "...                   ...           ...                     ...        ...   \n",
      "78885    Cease and Desist           NaN  11/14/2023 02:37:51 PM        DOT   \n",
      "78886    Cease and Desist           NaN  11/14/2023 02:42:16 PM        DOT   \n",
      "79116           Compliant           NaN  11/28/2023 11:52:12 AM        DOT   \n",
      "79182       Non-Compliant           NaN  12/01/2023 12:31:52 PM        DOT   \n",
      "79185           Compliant           NaN  12/01/2023 12:43:45 PM        DOT   \n",
      "\n",
      "       Postcode   Latitude  Longitude  CommunityBoard  CouncilDistrict  \\\n",
      "0         10001  40.744876 -73.989657             5.0              3.0   \n",
      "81        10001  40.745494 -73.993031             5.0              3.0   \n",
      "82        10001  40.745428 -73.992872             5.0              3.0   \n",
      "86        10001  40.745164 -73.992295             4.0              3.0   \n",
      "89        10001  40.744898 -73.991360             5.0              3.0   \n",
      "...         ...        ...        ...             ...              ...   \n",
      "78885     10001  40.749588 -73.985213             5.0              4.0   \n",
      "78886     10001  40.749610 -73.985267             5.0              4.0   \n",
      "79116     10001  40.747444 -73.986203             5.0              4.0   \n",
      "79182     10001  40.748208 -73.992663             5.0              3.0   \n",
      "79185     10001  40.748208 -73.992663             5.0              3.0   \n",
      "\n",
      "       CensusTract        BIN           BBL  \\\n",
      "0             58.0  1015677.0  1.008290e+09   \n",
      "81            95.0  1015034.0  1.008020e+09   \n",
      "82            95.0  1015034.0  1.008020e+09   \n",
      "86            91.0  1015021.0  1.008010e+09   \n",
      "89            95.0  1015042.0  1.008020e+09   \n",
      "...            ...        ...           ...   \n",
      "78885         84.0  1015892.0  1.008370e+09   \n",
      "78886         84.0  1015891.0  1.008370e+09   \n",
      "79116         76.0  1015825.0  1.008330e+09   \n",
      "79182         95.0  1014291.0  1.007790e+09   \n",
      "79185         95.0  1014291.0  1.007790e+09   \n",
      "\n",
      "                                              NTA  \n",
      "0      Hudson Yards-Chelsea-Flatiron-Union Square  \n",
      "81                          Midtown-Midtown South  \n",
      "82                          Midtown-Midtown South  \n",
      "86     Hudson Yards-Chelsea-Flatiron-Union Square  \n",
      "89                          Midtown-Midtown South  \n",
      "...                                           ...  \n",
      "78885                       Midtown-Midtown South  \n",
      "78886                       Midtown-Midtown South  \n",
      "79116                       Midtown-Midtown South  \n",
      "79182                       Midtown-Midtown South  \n",
      "79185                       Midtown-Midtown South  \n",
      "\n",
      "[1327 rows x 20 columns]\n"
     ]
    }
   ],
   "source": [
    "grouped = df.groupby('Postcode')\n",
    "\n",
    "postcode = df.at[0, 'Postcode']\n",
    "\n",
    "print(grouped.get_group(postcode))"
   ]
  },
  {
   "cell_type": "code",
   "execution_count": null,
   "metadata": {},
   "outputs": [],
   "source": []
  }
 ],
 "metadata": {
  "kernelspec": {
   "display_name": ".venv",
   "language": "python",
   "name": "python3"
  },
  "language_info": {
   "codemirror_mode": {
    "name": "ipython",
    "version": 3
   },
   "file_extension": ".py",
   "mimetype": "text/x-python",
   "name": "python",
   "nbconvert_exporter": "python",
   "pygments_lexer": "ipython3",
   "version": "3.10.12"
  }
 },
 "nbformat": 4,
 "nbformat_minor": 2
}
